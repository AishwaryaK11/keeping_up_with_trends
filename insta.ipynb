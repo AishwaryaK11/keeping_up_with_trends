{
 "cells": [
  {
   "cell_type": "markdown",
   "metadata": {},
   "source": [
    "#Extracting trending images of product from instagram using selenium"
   ]
  },
  {
   "cell_type": "code",
   "execution_count": 30,
   "metadata": {},
   "outputs": [],
   "source": [
    "from selenium import webdriver\n",
    "from selenium.webdriver.common.keys import Keys\n",
    "from selenium.webdriver.support import expected_conditions as EC\n",
    "from selenium.webdriver.common.by import By\n",
    "from selenium.webdriver.support.wait import WebDriverWait\n",
    "import os\n",
    "\n",
    "import requests\n",
    "from bs4 import BeautifulSoup"
   ]
  },
  {
   "cell_type": "code",
   "execution_count": 31,
   "metadata": {},
   "outputs": [
    {
     "name": "stderr",
     "output_type": "stream",
     "text": [
      "/tmp/ipykernel_19561/2461753059.py:1: DeprecationWarning: executable_path has been deprecated, please pass in a Service object\n",
      "  driver = webdriver.Chrome(executable_path=\"/home/aishwarya/webdriver/chromedriver\")\n"
     ]
    }
   ],
   "source": [
    "driver = webdriver.Chrome(executable_path=\"/home/aishwarya/webdriver/chromedriver\")\n",
    "#open the webpage\n",
    "driver.get(\"https://www.instagram.com/explore/\")\n",
    "\n",
    "#target username\n",
    "username = WebDriverWait(driver, 10).until(EC.element_to_be_clickable((By.CSS_SELECTOR, \"input[name='username']\")))\n",
    "password = WebDriverWait(driver, 10).until(EC.element_to_be_clickable((By.CSS_SELECTOR, \"input[name='password']\")))\n",
    "\n",
    "#enter username and password\n",
    "username.clear()\n",
    "username.send_keys(\"levii0611\")\n",
    "password.clear()\n",
    "password.send_keys(\"Levi@0611\")\n",
    "\n",
    "#target the login button and click it\n",
    "button = WebDriverWait(driver, 2).until(EC.element_to_be_clickable((By.CSS_SELECTOR, \"button[type='submit']\"))).click()\n",
    "\n",
    "#We are logged in!\n"
   ]
  },
  {
   "cell_type": "code",
   "execution_count": 32,
   "metadata": {},
   "outputs": [],
   "source": [
    "not_now = WebDriverWait(driver, 50).until(EC.element_to_be_clickable((By.XPATH, '//button[contains(text(), \"Not now\")]'))).click()\n"
   ]
  },
  {
   "cell_type": "code",
   "execution_count": 33,
   "metadata": {},
   "outputs": [],
   "source": [
    "import time\n",
    "\n",
    "#target the search input field\n",
    "searchbox = WebDriverWait(driver, 10).until(EC.element_to_be_clickable((By.XPATH, \"//input[@placeholder='Search']\")))\n",
    "searchbox.clear()\n",
    "\n"
   ]
  },
  {
   "cell_type": "code",
   "execution_count": 34,
   "metadata": {},
   "outputs": [],
   "source": [
    "#search for the hashtag cat\n",
    "keyword = \"#widelegjeans\"\n",
    "searchbox.send_keys(keyword)\n",
    " \n"
   ]
  },
  {
   "cell_type": "code",
   "execution_count": 35,
   "metadata": {},
   "outputs": [],
   "source": [
    "time.sleep(5) # Wait for 5 seconds\n",
    "my_link = WebDriverWait(driver, 10).until(EC.element_to_be_clickable((By.XPATH, \"//a[contains(@href, '/\" + keyword[1:] + \"/')]\")))\n",
    "my_link.click()"
   ]
  },
  {
   "cell_type": "code",
   "execution_count": 37,
   "metadata": {},
   "outputs": [
    {
     "name": "stdout",
     "output_type": "stream",
     "text": [
      "Found 24 links to images\n"
     ]
    },
    {
     "data": {
      "text/plain": [
       "24"
      ]
     },
     "execution_count": 37,
     "metadata": {},
     "output_type": "execute_result"
    }
   ],
   "source": [
    "#driver.execute_script(\"window.scrollTo(0, 10);\")\n",
    "\n",
    "#target all images on the page\n",
    "anchors= driver.find_elements(By.TAG_NAME, 'a')\n",
    "anchors = [a.get_attribute('href') for a in anchors]\n",
    "anchors = [a for a in anchors if str(a).startswith(\"https://www.instagram.com/p/\")]\n",
    "print('Found ' + str(len(anchors)) + ' links to images')\n",
    "anchors[:5]\n",
    "\n",
    "def first_4(anchors):\n",
    "  return anchors[:5]\n",
    "\n",
    "#anchors=first_4(anchors)\n",
    "len(anchors)"
   ]
  },
  {
   "cell_type": "code",
   "execution_count": 38,
   "metadata": {},
   "outputs": [
    {
     "data": {
      "text/plain": [
       "['https://instagram.fdel29-1.fna.fbcdn.net/v/t51.2885-15/289296656_2119257578234168_3512586529959024687_n.jpg?stp=dst-jpg_e35&_nc_ht=instagram.fdel29-1.fna.fbcdn.net&_nc_cat=1&_nc_ohc=YrL99Kid-soAX_rZuVm&edm=ALQROFkBAAAA&ccb=7-5&ig_cache_key=Mjg2NjQzMDIxNTI2MzE1MjI2MA%3D%3D.2-ccb7-5&oh=00_AT9LB-aGgRiyOWWyvsaQaGW-2Ute0pBpd4AotX-ZRXjZ4w&oe=62EBD8FE&_nc_sid=30a2ef',\n",
       " 'https://instagram.fdel29-1.fna.fbcdn.net/v/t51.2885-15/296367289_1067377053891405_5937020002982768298_n.webp?stp=dst-jpg_e35&_nc_ht=instagram.fdel29-1.fna.fbcdn.net&_nc_cat=109&_nc_ohc=oFq_XUyQMVwAX_uE10N&edm=ALQROFkBAAAA&ccb=7-5&ig_cache_key=Mjg5MjMxNTE2MTQ1ODk5OTY5MA%3D%3D.2-ccb7-5&oh=00_AT9Z08LMxm0gqS2od5b8tqthSxVtW1mbAiBi0Uvd7MQTDg&oe=62EC8FC4&_nc_sid=30a2ef',\n",
       " 'https://instagram.fdel29-1.fna.fbcdn.net/v/t51.2885-15/295932278_156272626989793_6347616003165332216_n.jpg?stp=dst-jpg_e35&_nc_ht=instagram.fdel29-1.fna.fbcdn.net&_nc_cat=101&_nc_ohc=7TH4237_7JYAX_jasKU&edm=ALQROFkBAAAA&ccb=7-5&ig_cache_key=Mjg5MDI3NDMzODY0MjcyODM0NA%3D%3D.2-ccb7-5&oh=00_AT_Yc2BfgKVBzP_SmmzoNmcJSwTR6nh38cGzsPXUm9nPaA&oe=62EC6AD5&_nc_sid=30a2ef',\n",
       " 'https://instagram.fdel29-1.fna.fbcdn.net/v/t51.2885-15/294508244_191081973264725_5447947546549391491_n.jpg?stp=dst-jpg_e35&_nc_ht=instagram.fdel29-1.fna.fbcdn.net&_nc_cat=105&_nc_ohc=S6AH0qKsRiQAX-El03A&tn=8_6ujUVwO3zhMu4Q&edm=ALQROFkBAAAA&ccb=7-5&ig_cache_key=Mjg4NzI2NTk0NjAzMDM4OTE5NA%3D%3D.2-ccb7-5&oh=00_AT_FRXFYwa5vlVXtu_id8YxmVB4fc58MPoXASiZirs1bPg&oe=62ECB0CB&_nc_sid=30a2ef',\n",
       " 'https://instagram.fdel29-1.fna.fbcdn.net/v/t51.2885-15/279155884_984531178859326_7847035255323132421_n.jpg?stp=dst-jpg_e35&_nc_ht=instagram.fdel29-1.fna.fbcdn.net&_nc_cat=110&_nc_ohc=8Qc2rsNadCMAX86PBlU&edm=ALQROFkBAAAA&ccb=7-5&ig_cache_key=MjgyNTE1MTQ5NTI0MzQzMTIwMg%3D%3D.2-ccb7-5&oh=00_AT_PZnmRpIBYvuNzGrPBIAWTxtZJaQJj6RfjMgUd1KDXEg&oe=62ECD87F&_nc_sid=30a2ef']"
      ]
     },
     "execution_count": 38,
     "metadata": {},
     "output_type": "execute_result"
    }
   ],
   "source": [
    "images = []\n",
    "\n",
    "#follow each image link and extract only image at index=1\n",
    "for a in anchors:\n",
    "    driver.get(a)\n",
    "    time.sleep(5)\n",
    "    img = driver.find_elements(By.TAG_NAME, 'img')\n",
    "    img = [i.get_attribute('src') for i in img]\n",
    "    images.append(img[1])\n",
    "    \n",
    "images[:5]    "
   ]
  },
  {
   "cell_type": "code",
   "execution_count": 39,
   "metadata": {},
   "outputs": [
    {
     "data": {
      "text/plain": [
       "'/home/aishwarya/Desktop/aisha/widelegjeanss'"
      ]
     },
     "execution_count": 39,
     "metadata": {},
     "output_type": "execute_result"
    }
   ],
   "source": [
    "import os\n",
    "import wget\n",
    "\n",
    "path = os.getcwd()\n",
    "path = os.path.join(path, keyword[1:] + \"s\")\n",
    "\n",
    "#create the directory\n",
    "os.mkdir(path)\n",
    "\n",
    "path"
   ]
  },
  {
   "cell_type": "code",
   "execution_count": 119,
   "metadata": {},
   "outputs": [],
   "source": [
    "counter = 0\n",
    "for image in images:\n",
    "    save_as = os.path.join(path, keyword[1:] + str(counter) + '.jpg')\n",
    "    wget.download(image, save_as)\n",
    "    counter += 1"
   ]
  },
  {
   "cell_type": "code",
   "execution_count": null,
   "metadata": {},
   "outputs": [],
   "source": []
  },
  {
   "cell_type": "code",
   "execution_count": null,
   "metadata": {},
   "outputs": [],
   "source": []
  }
 ],
 "metadata": {
  "kernelspec": {
   "display_name": "Python 3.9.12 ('base')",
   "language": "python",
   "name": "python3"
  },
  "language_info": {
   "codemirror_mode": {
    "name": "ipython",
    "version": 3
   },
   "file_extension": ".py",
   "mimetype": "text/x-python",
   "name": "python",
   "nbconvert_exporter": "python",
   "pygments_lexer": "ipython3",
   "version": "3.9.12"
  },
  "orig_nbformat": 4,
  "vscode": {
   "interpreter": {
    "hash": "193dfa55f6ecdd2be137d37d4dfe692d77ea809bd5331a3532ddda4344fea5d6"
   }
  }
 },
 "nbformat": 4,
 "nbformat_minor": 2
}
