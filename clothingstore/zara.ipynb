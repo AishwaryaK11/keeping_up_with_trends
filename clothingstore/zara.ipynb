{
 "cells": [
  {
   "cell_type": "code",
   "execution_count": 12,
   "metadata": {},
   "outputs": [
    {
     "name": "stdout",
     "output_type": "stream",
     "text": [
      "['HALTER CUT-OUT DRESS', 'BODYSUIT WITH BOW', 'FULL LENGTH TROUSERS', 'EMBROIDERED CUT-OUT PLAYSUIT DRESS', 'SUEDE PLATFORM SANDALS', 'MIDI DRESS WITH CUT-OUT SIDE DETAIL', '₹ 4,990.00', '₹ 2,590.00', '₹ 2,990.00', '₹ 3,990.00', '₹ 2,890.00', '₹ 1,990.00', '₹ 7,990.00']\n"
     ]
    }
   ],
   "source": [
    "from autoscraper import AutoScraper\n",
    "\n",
    "url = 'https://www.zara.com/in/en/woman-new-in-l1180.html'\n",
    "\n",
    "# We can add one or multiple candidates here.\n",
    "# You can also put urls here to retrieve urls.\n",
    "wanted_list = [\"HALTER CUT-OUT DRESS\",\"₹ 2,990.00\"]\n",
    "\n",
    "scraper = AutoScraper()\n",
    "result = scraper.build(url, wanted_list)\n",
    "print(result)"
   ]
  },
  {
   "cell_type": "code",
   "execution_count": 13,
   "metadata": {},
   "outputs": [
    {
     "data": {
      "text/plain": [
       "{'rule_vkad': ['HALTER CUT-OUT DRESS',\n",
       "  'BODYSUIT WITH BOW',\n",
       "  'FULL LENGTH TROUSERS',\n",
       "  'EMBROIDERED CUT-OUT PLAYSUIT DRESS',\n",
       "  'SUEDE PLATFORM SANDALS',\n",
       "  'MIDI DRESS WITH CUT-OUT SIDE DETAIL'],\n",
       " 'rule_qqt3': ['HALTER CUT-OUT DRESS',\n",
       "  'BODYSUIT WITH BOW',\n",
       "  'FULL LENGTH TROUSERS',\n",
       "  'EMBROIDERED CUT-OUT PLAYSUIT DRESS',\n",
       "  'SUEDE PLATFORM SANDALS'],\n",
       " 'rule_h97k': ['₹ 4,990.00',\n",
       "  '₹ 2,590.00',\n",
       "  '₹ 2,590.00',\n",
       "  '₹ 2,590.00',\n",
       "  '₹ 2,590.00',\n",
       "  '₹ 2,990.00',\n",
       "  '₹ 2,990.00',\n",
       "  '₹ 2,990.00'],\n",
       " 'rule_namr': ['₹ 3,990.00',\n",
       "  '₹ 2,890.00',\n",
       "  '₹ 2,890.00',\n",
       "  '₹ 2,990.00',\n",
       "  '₹ 1,990.00',\n",
       "  '₹ 2,990.00'],\n",
       " 'rule_xsr5': ['₹ 4,990.00',\n",
       "  '₹ 2,590.00',\n",
       "  '₹ 2,590.00',\n",
       "  '₹ 2,590.00',\n",
       "  '₹ 2,590.00',\n",
       "  '₹ 2,990.00',\n",
       "  '₹ 2,990.00',\n",
       "  '₹ 2,990.00'],\n",
       " 'rule_lxhn': ['₹ 4,990.00',\n",
       "  '₹ 2,590.00',\n",
       "  '₹ 2,590.00',\n",
       "  '₹ 2,590.00',\n",
       "  '₹ 2,590.00',\n",
       "  '₹ 2,990.00',\n",
       "  '₹ 2,990.00',\n",
       "  '₹ 2,990.00'],\n",
       " 'rule_6c2c': ['₹ 2,990.00'],\n",
       " 'rule_lvpe': ['₹ 3,990.00',\n",
       "  '₹ 2,890.00',\n",
       "  '₹ 2,590.00',\n",
       "  '₹ 2,590.00',\n",
       "  '₹ 2,990.00',\n",
       "  '₹ 7,990.00'],\n",
       " 'rule_age7': ['₹ 3,990.00',\n",
       "  '₹ 2,890.00',\n",
       "  '₹ 2,890.00',\n",
       "  '₹ 2,990.00',\n",
       "  '₹ 1,990.00',\n",
       "  '₹ 2,990.00'],\n",
       " 'rule_w2l0': ['₹ 2,990.00',\n",
       "  '₹ 2,890.00',\n",
       "  '₹ 3,990.00',\n",
       "  '₹ 2,990.00',\n",
       "  '₹ 7,990.00',\n",
       "  '₹ 4,990.00'],\n",
       " 'rule_nr7i': ['₹ 2,990.00',\n",
       "  '₹ 2,890.00',\n",
       "  '₹ 3,990.00',\n",
       "  '₹ 2,990.00',\n",
       "  '₹ 7,990.00',\n",
       "  '₹ 4,990.00']}"
      ]
     },
     "execution_count": 13,
     "metadata": {},
     "output_type": "execute_result"
    }
   ],
   "source": [
    "scraper.get_result_similar(url, grouped=True)"
   ]
  },
  {
   "cell_type": "code",
   "execution_count": 14,
   "metadata": {},
   "outputs": [],
   "source": [
    "scraper.set_rule_aliases({'rule_vkad':'Title','rule_h97k':'Price'})\n",
    "scraper.keep_rules(['rule_vkad','rule_h97k'])\n",
    "scraper.save('zaraa-search')"
   ]
  },
  {
   "cell_type": "code",
   "execution_count": 16,
   "metadata": {},
   "outputs": [],
   "source": [
    "import pandas as pd\n"
   ]
  }
 ],
 "metadata": {
  "kernelspec": {
   "display_name": "Python 3.9.12 ('base')",
   "language": "python",
   "name": "python3"
  },
  "language_info": {
   "codemirror_mode": {
    "name": "ipython",
    "version": 3
   },
   "file_extension": ".py",
   "mimetype": "text/x-python",
   "name": "python",
   "nbconvert_exporter": "python",
   "pygments_lexer": "ipython3",
   "version": "3.9.12"
  },
  "orig_nbformat": 4,
  "vscode": {
   "interpreter": {
    "hash": "193dfa55f6ecdd2be137d37d4dfe692d77ea809bd5331a3532ddda4344fea5d6"
   }
  }
 },
 "nbformat": 4,
 "nbformat_minor": 2
}
