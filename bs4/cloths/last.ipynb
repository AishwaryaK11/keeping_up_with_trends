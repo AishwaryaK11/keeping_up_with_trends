{
 "cells": [
  {
   "cell_type": "code",
   "execution_count": 1,
   "metadata": {},
   "outputs": [],
   "source": [
    "import requests\n",
    "from bs4 import BeautifulSoup\n",
    "import pandas as pd\n",
    "\n",
    "def get_topics_page():\n",
    "    # TODO - add comments\n",
    "    topics_url = 'https://thevou.com/fashion/current-fashion-trends/'\n",
    "    response = requests.get(topics_url)\n",
    "    if response.status_code != 200:\n",
    "        raise Exception('Failed to load page {}'.format(topic_url))\n",
    "    doc = BeautifulSoup(response.text, 'html.parser')\n",
    "    return doc\n",
    "    "
   ]
  },
  {
   "cell_type": "code",
   "execution_count": 2,
   "metadata": {},
   "outputs": [],
   "source": [
    "doc = get_topics_page()"
   ]
  },
  {
   "cell_type": "code",
   "execution_count": 5,
   "metadata": {},
   "outputs": [
    {
     "data": {
      "text/plain": [
       "[<h2 style=\"text-align: center;\">Most Popular 31 Fashion Trends of 2022</h2>,\n",
       " <h2 style=\"text-align: center;\">+ 7 Sustainability Bonuses!</h2>,\n",
       " <h2 id=\"hoodies-under-blazers\" style=\"text-align: center;\"><strong>1</strong><span style=\"font-size: small;\">/31</span><br/>\n",
       " <strong><em>Crochet Set</em></strong></h2>,\n",
       " <h2 id=\"hoodies-under-blazers\" style=\"text-align: center;\"><strong>2</strong><span style=\"font-size: small;\">/31</span><br/>\n",
       " <strong><em>Hoodies Under Blazers</em></strong></h2>,\n",
       " <h2 style=\"text-align: center;\"><strong>3</strong><span style=\"font-size: small;\">/31</span><br/>\n",
       " <em><strong>Women’s Oversized Bomber Jackets</strong></em></h2>,\n",
       " <h2 style=\"text-align: center;\"><strong>4</strong><span style=\"font-size: small;\">/31</span><br/>\n",
       " <strong><em>Cropped Cardigans</em></strong></h2>,\n",
       " <h2 style=\"text-align: center;\"><strong>5</strong><span style=\"font-size: small;\">/31</span><br/>\n",
       " <strong><em>Casual Trench</em></strong></h2>,\n",
       " <h2 style=\"text-align: center;\"><strong>6</strong><span style=\"font-size: small;\">/31</span><br/>\n",
       " <strong><em>Boiler Suits </em></strong></h2>,\n",
       " <h2 id=\"bohemian-florals\" style=\"text-align: center;\"><strong>7</strong><span style=\"font-size: small;\">/31</span><br/>\n",
       " <strong><em>The Leather Jacket</em></strong></h2>,\n",
       " <h2 id=\"bohemian-florals\" style=\"text-align: center;\"><strong>8</strong><span style=\"font-size: small;\">/31</span><br/>\n",
       " <strong><em>Power Bohemian Florals</em></strong></h2>,\n",
       " <h2 style=\"text-align: center;\"><strong>9</strong><span style=\"font-size: small;\">/31</span><br/>\n",
       " <strong><em>Puff Sleeves</em></strong></h2>,\n",
       " <h2 id=\"color-clashing\" style=\"text-align: center;\"><strong>10</strong><span style=\"font-size: small;\">/31</span><br/>\n",
       " <strong><em>Color Clashing</em></strong></h2>,\n",
       " <h2 style=\"text-align: center;\"><strong>11</strong><span style=\"font-size: small;\">/31</span><br/>\n",
       " <strong><em>Monochrome Matrix</em></strong></h2>,\n",
       " <h2 style=\"text-align: center;\"><strong>12</strong><span style=\"font-size: small;\">/31</span><br/>\n",
       " <em><strong>Sickly Sweets Pastels</strong><br/>\n",
       " </em></h2>,\n",
       " <h2 id=\"combat-boots\" style=\"text-align: center;\"><strong>13</strong><span style=\"font-size: small;\">/31</span><br/>\n",
       " <strong><em>Tractor Trek-Sole Boots</em></strong></h2>,\n",
       " <h2 id=\"chunky-loafers\" style=\"text-align: center;\"><strong>14</strong><span style=\"font-size: small;\">/31</span><br/>\n",
       " <strong><em>Chunky Loafers</em></strong></h2>,\n",
       " <h2 style=\"text-align: center;\"><strong>15</strong><span style=\"font-size: small;\">/31</span><br/>\n",
       " <strong><em>Maxies</em></strong></h2>,\n",
       " <h2 style=\"text-align: center;\"><strong>16</strong><span style=\"font-size: small;\">/31</span><br/>\n",
       " <strong><em>Vests &amp; Shests</em></strong></h2>,\n",
       " <h2 style=\"text-align: center;\"><strong>17</strong><span style=\"font-size: small;\">/31</span><br/>\n",
       " <strong><em>Voluminous Sleeves &amp; Shoulders</em></strong></h2>,\n",
       " <h2 style=\"text-align: center;\"><strong>18</strong><span style=\"font-size: small;\">/31</span><br/>\n",
       " <strong><em>Sash Belt-Dress</em></strong></h2>,\n",
       " <h2 style=\"text-align: center;\"><strong>19</strong><span style=\"font-size: small;\">/31</span><br/>\n",
       " <strong><em>Bralettes</em></strong></h2>,\n",
       " <h2 style=\"text-align: center;\"><strong>21</strong><span style=\"font-size: small;\">/31</span><br/>\n",
       " <strong><em>Bucket Hats</em></strong></h2>,\n",
       " <h2 id=\"dark-academia\" style=\"text-align: center;\"><strong>21</strong><span style=\"font-size: small;\">/31</span><br/>\n",
       " <strong><em>Academia Styles</em></strong></h2>,\n",
       " <h2 id=\"gothic\" style=\"text-align: center;\"><strong>22</strong><span style=\"font-size: small;\">/31</span><br/>\n",
       " <strong><em>Hot Goth</em></strong></h2>,\n",
       " <h2 id=\"y2k\" style=\"text-align: center;\"><strong>23</strong><span style=\"font-size: small;\">/31</span><br/>\n",
       " <strong><em>Y2K Fashion</em></strong></h2>,\n",
       " <h2 style=\"text-align: center;\"><strong>24</strong><span style=\"font-size: small;\">/31</span><br/>\n",
       " <strong><em>Mesh Shirts</em></strong></h2>,\n",
       " <h2 style=\"text-align: center;\"><strong>25</strong><span style=\"font-size: small;\">/31</span><br/>\n",
       " <strong><em>White Knee-High Boots</em></strong></h2>,\n",
       " <h2 id=\"wide-legged-pants\" style=\"text-align: center;\"><strong>26</strong><span style=\"font-size: small;\">/31</span><br/>\n",
       " <strong><em>Wide Leg Pants</em></strong></h2>,\n",
       " <h2 style=\"text-align: center;\"><strong>27</strong><span style=\"font-size: small;\">/31</span><br/>\n",
       " <strong><em>Shackets</em></strong></h2>,\n",
       " <h2 style=\"text-align: center;\"><strong>28</strong><span style=\"font-size: small;\">/31</span><br/>\n",
       " <strong><em>Bubblegum Pink</em></strong></h2>,\n",
       " <h2 style=\"text-align: center;\"><strong>29</strong><span style=\"font-size: small;\">/31</span><br/>\n",
       " <strong><em>Tiger Prints</em></strong></h2>,\n",
       " <h2 style=\"text-align: center;\"><strong>30</strong><span style=\"font-size: small;\">/31</span><br/>\n",
       " <strong><em>Disco Ball</em></strong></h2>,\n",
       " <h2 id=\"loud-logos\" style=\"text-align: center;\"><strong>31</strong><span style=\"font-size: small;\">/31</span><br/>\n",
       " <strong><em>Loud Logos</em></strong></h2>,\n",
       " <h2 style=\"text-align: center;\"><strong>BONUS</strong><br/>\n",
       " 7 Emerging Fashion Trends in 2022 – Sustainability First</h2>]"
      ]
     },
     "execution_count": 5,
     "metadata": {},
     "output_type": "execute_result"
    }
   ],
   "source": [
    "a='text-align: center;'\n",
    "aas=doc.find_all('h2',{'style': a})\n",
    "#aas=doc.find_all('strong')\n",
    "aas"
   ]
  },
  {
   "cell_type": "code",
   "execution_count": 6,
   "metadata": {},
   "outputs": [
    {
     "name": "stdout",
     "output_type": "stream",
     "text": [
      "\n",
      "\n",
      "Crochet Set\n",
      "Hoodies Under Blazers\n",
      "Women’s Oversized Bomber Jackets\n",
      "Cropped Cardigans\n",
      "Casual Trench\n",
      "Boiler Suits \n",
      "The Leather Jacket\n",
      "Power Bohemian Florals\n",
      "Puff Sleeves\n",
      "Color Clashing\n",
      "Monochrome Matrix\n",
      "Sickly Sweets Pastels\n",
      "\n",
      "Tractor Trek-Sole Boots\n",
      "Chunky Loafers\n",
      "Maxies\n",
      "Vests & Shests\n",
      "Voluminous Sleeves & Shoulders\n",
      "Sash Belt-Dress\n",
      "Bralettes\n",
      "Bucket Hats\n",
      "Academia Styles\n",
      "Hot Goth\n",
      "Y2K Fashion\n",
      "Mesh Shirts\n",
      "White Knee-High Boots\n",
      "Wide Leg Pants\n",
      "Shackets\n",
      "Bubblegum Pink\n",
      "Tiger Prints\n",
      "Disco Ball\n",
      "Loud Logos\n",
      "\n"
     ]
    }
   ],
   "source": [
    "lst=[]\n",
    "for item in aas:\n",
    "    h2=', '.join([x.get_text() for x in item.find_all('em')])\n",
    "    print(h2)\n",
    "    lst.append(h2)\n",
    "df = pd.DataFrame(lst)\n"
   ]
  }
 ],
 "metadata": {
  "kernelspec": {
   "display_name": "Python 3.9.12 ('base')",
   "language": "python",
   "name": "python3"
  },
  "language_info": {
   "codemirror_mode": {
    "name": "ipython",
    "version": 3
   },
   "file_extension": ".py",
   "mimetype": "text/x-python",
   "name": "python",
   "nbconvert_exporter": "python",
   "pygments_lexer": "ipython3",
   "version": "3.9.12"
  },
  "orig_nbformat": 4,
  "vscode": {
   "interpreter": {
    "hash": "193dfa55f6ecdd2be137d37d4dfe692d77ea809bd5331a3532ddda4344fea5d6"
   }
  }
 },
 "nbformat": 4,
 "nbformat_minor": 2
}
