{
 "cells": [
  {
   "cell_type": "code",
   "execution_count": 17,
   "metadata": {},
   "outputs": [],
   "source": [
    "import requests\n",
    "from bs4 import BeautifulSoup\n",
    "import pandas as pd\n",
    "\n",
    "def get_topics_page():\n",
    "    # TODO - add comments\n",
    "    topics_url = 'https://www.missmalini.com/2020/03/18/16-must-have-wardrobe-basics-every-woman-needs-to-own'\n",
    "    response = requests.get(topics_url)\n",
    "    if response.status_code != 200:\n",
    "        raise Exception('Failed to load page {}'.format(topic_url))\n",
    "    doc = BeautifulSoup(response.text, 'html.parser')\n",
    "    return doc"
   ]
  },
  {
   "cell_type": "code",
   "execution_count": 18,
   "metadata": {},
   "outputs": [],
   "source": [
    "doc = get_topics_page()"
   ]
  },
  {
   "cell_type": "code",
   "execution_count": 31,
   "metadata": {},
   "outputs": [
    {
     "data": {
      "text/plain": [
       "[<div class=\"mb-60 articleWrapper\"><div class=\"article article-fashion-beauty\"></div><div class=\"p-4 flex justify-center\" id=\"div-gpt-ad-1642612140803-0\"></div><div class=\"mt-8\"><a class=\"inline-block rounded-full mb-4 mr-4 text-center bg-tag-fashion-beauty text-white py-2 px-3\" href=\"/tags/basics\"><small class=\"font-semibold\">Basics</small></a><a class=\"inline-block rounded-full mb-4 mr-4 text-center bg-tag-fashion-beauty text-white py-2 px-3\" href=\"/tags/denim-jacket\"><small class=\"font-semibold\">Denim Jacket</small></a><a class=\"inline-block rounded-full mb-4 mr-4 text-center bg-tag-fashion-beauty text-white py-2 px-3\" href=\"/tags/denim-shorts\"><small class=\"font-semibold\">Denim Shorts</small></a><a class=\"inline-block rounded-full mb-4 mr-4 text-center bg-tag-fashion-beauty text-white py-2 px-3\" href=\"/tags/fashion\"><small class=\"font-semibold\">Fashion</small></a><a class=\"inline-block rounded-full mb-4 mr-4 text-center bg-tag-fashion-beauty text-white py-2 px-3\" href=\"/tags/fashion-reviews-features\"><small class=\"font-semibold\">Fashion Reviews &amp; Features</small></a><a class=\"inline-block rounded-full mb-4 mr-4 text-center bg-tag-fashion-beauty text-white py-2 px-3\" href=\"/tags/little-black-dress\"><small class=\"font-semibold\">Little Black Dress</small></a><a class=\"inline-block rounded-full mb-4 mr-4 text-center bg-tag-fashion-beauty text-white py-2 px-3\" href=\"/tags/tank-top\"><small class=\"font-semibold\">Tank Top</small></a><a class=\"inline-block rounded-full mb-4 mr-4 text-center bg-tag-fashion-beauty text-white py-2 px-3\" href=\"/tags/white-shirt\"><small class=\"font-semibold\">White Shirt</small></a><a class=\"inline-block rounded-full mb-4 mr-4 text-center bg-tag-fashion-beauty text-white py-2 px-3\" href=\"/tags/womenswear\"><small class=\"font-semibold\">Womenswear</small></a></div></div>]"
      ]
     },
     "execution_count": 31,
     "metadata": {},
     "output_type": "execute_result"
    }
   ],
   "source": [
    "a='mb-60 articleWrapper'\n",
    "aas=doc.find_all('div',{'class': a})\n",
    "#ad = aas.find('h2')\n",
    "aas"
   ]
  },
  {
   "cell_type": "code",
   "execution_count": 39,
   "metadata": {},
   "outputs": [
    {
     "name": "stdout",
     "output_type": "stream",
     "text": [
      "Basics, Denim Jacket, Denim Shorts, Fashion, Fashion Reviews & Features, Little Black Dress, Tank Top, White Shirt, Womenswear\n"
     ]
    }
   ],
   "source": [
    "lst=[]\n",
    "for item in aas:\n",
    "    h2=', '.join([x.get_text() for x in item.find_all('small')])\n",
    "    print(h2)\n",
    "    lst.append(h2)\n",
    "df = pd.DataFrame(lst)\n"
   ]
  },
  {
   "cell_type": "code",
   "execution_count": null,
   "metadata": {},
   "outputs": [],
   "source": []
  }
 ],
 "metadata": {
  "kernelspec": {
   "display_name": "Python 3.9.12 ('base')",
   "language": "python",
   "name": "python3"
  },
  "language_info": {
   "codemirror_mode": {
    "name": "ipython",
    "version": 3
   },
   "file_extension": ".py",
   "mimetype": "text/x-python",
   "name": "python",
   "nbconvert_exporter": "python",
   "pygments_lexer": "ipython3",
   "version": "3.9.12"
  },
  "orig_nbformat": 4,
  "vscode": {
   "interpreter": {
    "hash": "193dfa55f6ecdd2be137d37d4dfe692d77ea809bd5331a3532ddda4344fea5d6"
   }
  }
 },
 "nbformat": 4,
 "nbformat_minor": 2
}
