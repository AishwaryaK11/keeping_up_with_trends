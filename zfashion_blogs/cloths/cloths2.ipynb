{
 "cells": [
  {
   "cell_type": "code",
   "execution_count": 1,
   "metadata": {},
   "outputs": [],
   "source": [
    "import requests\n",
    "from bs4 import BeautifulSoup\n",
    "import pandas as pd\n",
    "\n",
    "def get_topics_page():\n",
    "    # TODO - add comments\n",
    "    topics_url = 'https://www.collegefashion.net/trends/instagram-fashion-trends/'\n",
    "    response = requests.get(topics_url)\n",
    "    if response.status_code != 200:\n",
    "        raise Exception('Failed to load page {}'.format(topic_url))\n",
    "    doc = BeautifulSoup(response.text, 'html.parser')\n",
    "    return doc"
   ]
  },
  {
   "cell_type": "code",
   "execution_count": 2,
   "metadata": {},
   "outputs": [],
   "source": [
    "doc = get_topics_page()"
   ]
  },
  {
   "cell_type": "code",
   "execution_count": 23,
   "metadata": {},
   "outputs": [
    {
     "data": {
      "text/plain": [
       "[<li class=\"ez-toc-page-1 ez-toc-heading-level-2\"><a class=\"ez-toc-link ez-toc-heading-1\" href=\"#1_Knee-High_Boots\" title=\"1. Knee-High Boots\">1. Knee-High Boots</a></li>,\n",
       " <li class=\"ez-toc-page-1 ez-toc-heading-level-2\"><a class=\"ez-toc-link ez-toc-heading-2\" href=\"#2_Turtleneck_Tops\" title=\"2. Turtleneck Tops\">2. Turtleneck Tops</a></li>,\n",
       " <li class=\"ez-toc-page-1 ez-toc-heading-level-2\"><a class=\"ez-toc-link ez-toc-heading-3\" href=\"#3_Oversized_Hoodies\" title=\"3. Oversized Hoodies\">3. Oversized Hoodies</a></li>,\n",
       " <li class=\"ez-toc-page-1 ez-toc-heading-level-2\"><a class=\"ez-toc-link ez-toc-heading-4\" href=\"#4_Biker_Jacket\" title=\"4. Biker Jacket\">4. Biker Jacket</a></li>,\n",
       " <li class=\"ez-toc-page-1 ez-toc-heading-level-2\"><a class=\"ez-toc-link ez-toc-heading-5\" href=\"#5_Chunky_Combat_Boots\" title=\"5. Chunky Combat Boots\">5. Chunky Combat Boots</a></li>,\n",
       " <li class=\"ez-toc-page-1 ez-toc-heading-level-2\"><a class=\"ez-toc-link ez-toc-heading-6\" href=\"#6_Vintage_Aviator_Sunglasses\" title=\"6. Vintage Aviator Sunglasses\">6. Vintage Aviator Sunglasses</a></li>,\n",
       " <li class=\"ez-toc-page-1 ez-toc-heading-level-2\"><a class=\"ez-toc-link ez-toc-heading-7\" href=\"#7_Flannel_Shirts\" title=\"7. Flannel Shirts\">7. Flannel Shirts</a></li>,\n",
       " <li class=\"ez-toc-page-1 ez-toc-heading-level-2\"><a class=\"ez-toc-link ez-toc-heading-8\" href=\"#8_Brown_Leather_Pants\" title=\"8. Brown Leather Pants\">8. Brown Leather Pants</a></li>,\n",
       " <li class=\"ez-toc-page-1 ez-toc-heading-level-2\"><a class=\"ez-toc-link ez-toc-heading-9\" href=\"#9_Jacket_Dress\" title=\"9. Jacket Dress\">9. Jacket Dress</a></li>,\n",
       " <li class=\"ez-toc-page-1 ez-toc-heading-level-2\"><a class=\"ez-toc-link ez-toc-heading-10\" href=\"#10_Mini_Purses\" title=\"10. Mini Purses\">10. Mini Purses</a></li>,\n",
       " <li class=\"ez-toc-page-1 ez-toc-heading-level-2\"><a class=\"ez-toc-link ez-toc-heading-11\" href=\"#11_Bucket_Hats\" title=\"11. Bucket Hats\">11. Bucket Hats</a></li>,\n",
       " <li class=\"ez-toc-page-1 ez-toc-heading-level-2\"><a class=\"ez-toc-link ez-toc-heading-12\" href=\"#12_Plaid_Pants\" title=\"12. Plaid Pants\">12. Plaid Pants</a></li>,\n",
       " <li class=\"ez-toc-page-1 ez-toc-heading-level-2\"><a class=\"ez-toc-link ez-toc-heading-13\" href=\"#13_Chain_Choker_Necklaces\" title=\"13. Chain Choker Necklaces\">13. Chain Choker Necklaces</a></li>,\n",
       " <li class=\"ez-toc-page-1 ez-toc-heading-level-2\"><a class=\"ez-toc-link ez-toc-heading-14\" href=\"#14_Puff_Sleeve_Tops\" title=\"14. Puff Sleeve Tops\">14. Puff Sleeve Tops</a></li>,\n",
       " <li class=\"ez-toc-page-1 ez-toc-heading-level-2\"><a class=\"ez-toc-link ez-toc-heading-15\" href=\"#15_Hair_Claw_Clips\" title=\"15. Hair Claw Clips\">15. Hair Claw Clips</a></li>,\n",
       " <li class=\"ez-toc-page-1 ez-toc-heading-level-2\"><a class=\"ez-toc-link ez-toc-heading-16\" href=\"#What_are_your_favorite_Instagram_fashion_trends\" title=\"What are your favorite Instagram fashion trends?\">What are your favorite Instagram fashion trends?</a></li>]"
      ]
     },
     "execution_count": 23,
     "metadata": {},
     "output_type": "execute_result"
    }
   ],
   "source": [
    "clsname='ez-toc-page-1 ez-toc-heading-level-2'\n",
    "aas=doc.find_all('li',{'class': clsname})\n",
    "#aas = doc.find_all('h2')\n",
    "aas"
   ]
  },
  {
   "cell_type": "code",
   "execution_count": 20,
   "metadata": {},
   "outputs": [
    {
     "data": {
      "text/plain": [
       "[[<a class=\"ez-toc-link ez-toc-heading-1\" href=\"#1_Knee-High_Boots\" title=\"1. Knee-High Boots\">1. Knee-High Boots</a>,\n",
       "  <a class=\"ez-toc-link ez-toc-heading-2\" href=\"#2_Turtleneck_Tops\" title=\"2. Turtleneck Tops\">2. Turtleneck Tops</a>,\n",
       "  <a class=\"ez-toc-link ez-toc-heading-3\" href=\"#3_Oversized_Hoodies\" title=\"3. Oversized Hoodies\">3. Oversized Hoodies</a>,\n",
       "  <a class=\"ez-toc-link ez-toc-heading-4\" href=\"#4_Biker_Jacket\" title=\"4. Biker Jacket\">4. Biker Jacket</a>,\n",
       "  <a class=\"ez-toc-link ez-toc-heading-5\" href=\"#5_Chunky_Combat_Boots\" title=\"5. Chunky Combat Boots\">5. Chunky Combat Boots</a>,\n",
       "  <a class=\"ez-toc-link ez-toc-heading-6\" href=\"#6_Vintage_Aviator_Sunglasses\" title=\"6. Vintage Aviator Sunglasses\">6. Vintage Aviator Sunglasses</a>,\n",
       "  <a class=\"ez-toc-link ez-toc-heading-7\" href=\"#7_Flannel_Shirts\" title=\"7. Flannel Shirts\">7. Flannel Shirts</a>,\n",
       "  <a class=\"ez-toc-link ez-toc-heading-8\" href=\"#8_Brown_Leather_Pants\" title=\"8. Brown Leather Pants\">8. Brown Leather Pants</a>,\n",
       "  <a class=\"ez-toc-link ez-toc-heading-9\" href=\"#9_Jacket_Dress\" title=\"9. Jacket Dress\">9. Jacket Dress</a>,\n",
       "  <a class=\"ez-toc-link ez-toc-heading-10\" href=\"#10_Mini_Purses\" title=\"10. Mini Purses\">10. Mini Purses</a>,\n",
       "  <a class=\"ez-toc-link ez-toc-heading-11\" href=\"#11_Bucket_Hats\" title=\"11. Bucket Hats\">11. Bucket Hats</a>,\n",
       "  <a class=\"ez-toc-link ez-toc-heading-12\" href=\"#12_Plaid_Pants\" title=\"12. Plaid Pants\">12. Plaid Pants</a>,\n",
       "  <a class=\"ez-toc-link ez-toc-heading-13\" href=\"#13_Chain_Choker_Necklaces\" title=\"13. Chain Choker Necklaces\">13. Chain Choker Necklaces</a>,\n",
       "  <a class=\"ez-toc-link ez-toc-heading-14\" href=\"#14_Puff_Sleeve_Tops\" title=\"14. Puff Sleeve Tops\">14. Puff Sleeve Tops</a>,\n",
       "  <a class=\"ez-toc-link ez-toc-heading-15\" href=\"#15_Hair_Claw_Clips\" title=\"15. Hair Claw Clips\">15. Hair Claw Clips</a>,\n",
       "  <a class=\"ez-toc-link ez-toc-heading-16\" href=\"#What_are_your_favorite_Instagram_fashion_trends\" title=\"What are your favorite Instagram fashion trends?\">What are your favorite Instagram fashion trends?</a>]]"
      ]
     },
     "execution_count": 20,
     "metadata": {},
     "output_type": "execute_result"
    }
   ],
   "source": [
    "l=[]\n",
    "for tag in aas:\n",
    "    l.append(tag('a'))\n",
    "\n",
    "l"
   ]
  },
  {
   "cell_type": "code",
   "execution_count": 10,
   "metadata": {},
   "outputs": [
    {
     "name": "stdout",
     "output_type": "stream",
     "text": [
      "['1. Knee-High Boots', '2. Turtleneck Tops', '3. Oversized Hoodies', '4. Biker Jacket', '5. Chunky Combat Boots', '6. Vintage Aviator Sunglasses', '7. Flannel Shirts', '8. Brown Leather Pants', '9. Jacket Dress', '10. Mini Purses', '11. Bucket Hats', '12. Plaid Pants', '13. Chain Choker Necklaces', '14. Puff Sleeve Tops', '15. Hair Claw Clips', 'What are your favorite Instagram fashion trends?']\n"
     ]
    }
   ],
   "source": [
    "lst=[]\n",
    "for item in aas:\n",
    "    #h2=', '.join([x.get_text() for x in item.find_all('a')])\n",
    "    h2=([x.get_text() for x in item.find_all('a')])\n",
    "    \n",
    "    print(h2)\n",
    "    lst.append(h2)\n",
    "df = pd.DataFrame(lst)\n"
   ]
  },
  {
   "cell_type": "code",
   "execution_count": 5,
   "metadata": {},
   "outputs": [
    {
     "data": {
      "text/plain": [
       "['1. Knee-High Boots',\n",
       " '2. Turtleneck Tops',\n",
       " '3. Oversized Hoodies',\n",
       " '4. Biker Jacket',\n",
       " '5. Chunky Combat Boots',\n",
       " '6. Vintage Aviator Sunglasses',\n",
       " '7. Flannel Shirts',\n",
       " '8. Brown Leather Pants',\n",
       " '9. Jacket Dress',\n",
       " '10. Mini Purses',\n",
       " '11. Bucket Hats',\n",
       " '12. Plaid Pants',\n",
       " '13. Chain Choker Necklaces',\n",
       " '14. Puff Sleeve Tops',\n",
       " '15. Hair Claw Clips',\n",
       " 'What are your favorite Instagram fashion trends?']"
      ]
     },
     "execution_count": 5,
     "metadata": {},
     "output_type": "execute_result"
    }
   ],
   "source": [
    "lst[0]"
   ]
  },
  {
   "cell_type": "code",
   "execution_count": 6,
   "metadata": {},
   "outputs": [
    {
     "data": {
      "text/html": [
       "<div>\n",
       "<style scoped>\n",
       "    .dataframe tbody tr th:only-of-type {\n",
       "        vertical-align: middle;\n",
       "    }\n",
       "\n",
       "    .dataframe tbody tr th {\n",
       "        vertical-align: top;\n",
       "    }\n",
       "\n",
       "    .dataframe thead th {\n",
       "        text-align: right;\n",
       "    }\n",
       "</style>\n",
       "<table border=\"1\" class=\"dataframe\">\n",
       "  <thead>\n",
       "    <tr style=\"text-align: right;\">\n",
       "      <th></th>\n",
       "      <th>0</th>\n",
       "      <th>1</th>\n",
       "      <th>2</th>\n",
       "      <th>3</th>\n",
       "      <th>4</th>\n",
       "      <th>5</th>\n",
       "      <th>6</th>\n",
       "      <th>7</th>\n",
       "      <th>8</th>\n",
       "      <th>9</th>\n",
       "      <th>10</th>\n",
       "      <th>11</th>\n",
       "      <th>12</th>\n",
       "      <th>13</th>\n",
       "      <th>14</th>\n",
       "      <th>15</th>\n",
       "    </tr>\n",
       "  </thead>\n",
       "  <tbody>\n",
       "    <tr>\n",
       "      <th>0</th>\n",
       "      <td>1. Knee-High Boots</td>\n",
       "      <td>2. Turtleneck Tops</td>\n",
       "      <td>3. Oversized Hoodies</td>\n",
       "      <td>4. Biker Jacket</td>\n",
       "      <td>5. Chunky Combat Boots</td>\n",
       "      <td>6. Vintage Aviator Sunglasses</td>\n",
       "      <td>7. Flannel Shirts</td>\n",
       "      <td>8. Brown Leather Pants</td>\n",
       "      <td>9. Jacket Dress</td>\n",
       "      <td>10. Mini Purses</td>\n",
       "      <td>11. Bucket Hats</td>\n",
       "      <td>12. Plaid Pants</td>\n",
       "      <td>13. Chain Choker Necklaces</td>\n",
       "      <td>14. Puff Sleeve Tops</td>\n",
       "      <td>15. Hair Claw Clips</td>\n",
       "      <td>What are your favorite Instagram fashion trends?</td>\n",
       "    </tr>\n",
       "  </tbody>\n",
       "</table>\n",
       "</div>"
      ],
      "text/plain": [
       "                    0                   1                     2  \\\n",
       "0  1. Knee-High Boots  2. Turtleneck Tops  3. Oversized Hoodies   \n",
       "\n",
       "                 3                       4                              5  \\\n",
       "0  4. Biker Jacket  5. Chunky Combat Boots  6. Vintage Aviator Sunglasses   \n",
       "\n",
       "                   6                       7                8  \\\n",
       "0  7. Flannel Shirts  8. Brown Leather Pants  9. Jacket Dress   \n",
       "\n",
       "                 9               10               11  \\\n",
       "0  10. Mini Purses  11. Bucket Hats  12. Plaid Pants   \n",
       "\n",
       "                           12                    13                   14  \\\n",
       "0  13. Chain Choker Necklaces  14. Puff Sleeve Tops  15. Hair Claw Clips   \n",
       "\n",
       "                                                 15  \n",
       "0  What are your favorite Instagram fashion trends?  "
      ]
     },
     "execution_count": 6,
     "metadata": {},
     "output_type": "execute_result"
    }
   ],
   "source": [
    "df.to_csv('cloths2.csv', index=False)\n",
    "df_saved_file = pd.read_csv('cloths2.csv')\n",
    "df_saved_file"
   ]
  },
  {
   "cell_type": "code",
   "execution_count": null,
   "metadata": {},
   "outputs": [],
   "source": []
  }
 ],
 "metadata": {
  "kernelspec": {
   "display_name": "Python 3.9.12 ('base')",
   "language": "python",
   "name": "python3"
  },
  "language_info": {
   "codemirror_mode": {
    "name": "ipython",
    "version": 3
   },
   "file_extension": ".py",
   "mimetype": "text/x-python",
   "name": "python",
   "nbconvert_exporter": "python",
   "pygments_lexer": "ipython3",
   "version": "3.9.12"
  },
  "orig_nbformat": 4,
  "vscode": {
   "interpreter": {
    "hash": "193dfa55f6ecdd2be137d37d4dfe692d77ea809bd5331a3532ddda4344fea5d6"
   }
  }
 },
 "nbformat": 4,
 "nbformat_minor": 2
}
