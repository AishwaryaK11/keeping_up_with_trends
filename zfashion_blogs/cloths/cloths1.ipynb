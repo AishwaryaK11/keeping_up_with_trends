{
 "cells": [
  {
   "cell_type": "code",
   "execution_count": 2,
   "metadata": {},
   "outputs": [],
   "source": [
    "import requests\n",
    "from bs4 import BeautifulSoup\n",
    "import pandas as pd\n",
    "\n",
    "def get_topics_page():\n",
    "    # TODO - add comments\n",
    "    topics_url = 'https://www.usatoday.com/story/money/reviewed/2022/01/12/2022-fashion-trends-pearlcore-dopamine-dressing-and-more/9187555002/'\n",
    "    response = requests.get(topics_url)\n",
    "    if response.status_code != 200:\n",
    "        raise Exception('Failed to load page {}'.format(topic_url))\n",
    "    doc = BeautifulSoup(response.text, 'html.parser')\n",
    "    return doc"
   ]
  },
  {
   "cell_type": "code",
   "execution_count": 3,
   "metadata": {},
   "outputs": [],
   "source": [
    "doc = get_topics_page()"
   ]
  },
  {
   "cell_type": "code",
   "execution_count": 4,
   "metadata": {},
   "outputs": [
    {
     "data": {
      "text/plain": [
       "[<h2 class=\"gnt_ar_b_h2\">1. Preppy sweater vests</h2>,\n",
       " <h2 class=\"gnt_ar_b_h2\">2. Denim-on-denim</h2>,\n",
       " <h2 class=\"gnt_ar_b_h2\">3. Knitted and crocheted textures</h2>,\n",
       " <h2 class=\"gnt_ar_b_h2\">4. Pleated skirts</h2>,\n",
       " <h2 class=\"gnt_ar_b_h2\"> 5. Pearlcore</h2>,\n",
       " <h2 class=\"gnt_ar_b_h2\">6. Statement cut-outs</h2>,\n",
       " <h2 class=\"gnt_ar_b_h2\"> 7. Dopamine dressing</h2>]"
      ]
     },
     "execution_count": 4,
     "metadata": {},
     "output_type": "execute_result"
    }
   ],
   "source": [
    "className='gnt_ar_b_h2'\n",
    "aas=doc.find_all('h2',{'class': className})\n",
    "#ad = aas.find('h2')\n",
    "aas"
   ]
  },
  {
   "cell_type": "code",
   "execution_count": 5,
   "metadata": {},
   "outputs": [
    {
     "name": "stdout",
     "output_type": "stream",
     "text": [
      "1. Preppy sweater vests\n",
      "2. Denim-on-denim\n",
      "3. Knitted and crocheted textures\n",
      "4. Pleated skirts\n",
      " 5. Pearlcore\n",
      "6. Statement cut-outs\n",
      " 7. Dopamine dressing\n"
     ]
    },
    {
     "data": {
      "text/plain": [
       "['1. Preppy\\xa0sweater vests',\n",
       " '2. Denim-on-denim',\n",
       " '3. Knitted\\xa0and crocheted textures',\n",
       " '4. Pleated skirts',\n",
       " '\\xa05. Pearlcore',\n",
       " '6. Statement cut-outs',\n",
       " '\\xa07. Dopamine dressing']"
      ]
     },
     "execution_count": 5,
     "metadata": {},
     "output_type": "execute_result"
    }
   ],
   "source": [
    "lst=[]\n",
    "for item in aas:\n",
    "    h2=', '.join([x.get_text() for x in item])\n",
    "    print(h2)\n",
    "    lst.append(h2)\n",
    "df = pd.DataFrame(lst)\n",
    "lst"
   ]
  },
  {
   "cell_type": "code",
   "execution_count": 9,
   "metadata": {},
   "outputs": [
    {
     "data": {
      "text/html": [
       "<div>\n",
       "<style scoped>\n",
       "    .dataframe tbody tr th:only-of-type {\n",
       "        vertical-align: middle;\n",
       "    }\n",
       "\n",
       "    .dataframe tbody tr th {\n",
       "        vertical-align: top;\n",
       "    }\n",
       "\n",
       "    .dataframe thead th {\n",
       "        text-align: right;\n",
       "    }\n",
       "</style>\n",
       "<table border=\"1\" class=\"dataframe\">\n",
       "  <thead>\n",
       "    <tr style=\"text-align: right;\">\n",
       "      <th></th>\n",
       "      <th>0</th>\n",
       "    </tr>\n",
       "  </thead>\n",
       "  <tbody>\n",
       "    <tr>\n",
       "      <th>0</th>\n",
       "      <td>1. Preppy sweater vests</td>\n",
       "    </tr>\n",
       "    <tr>\n",
       "      <th>1</th>\n",
       "      <td>2. Denim-on-denim</td>\n",
       "    </tr>\n",
       "    <tr>\n",
       "      <th>2</th>\n",
       "      <td>3. Knitted and crocheted textures</td>\n",
       "    </tr>\n",
       "    <tr>\n",
       "      <th>3</th>\n",
       "      <td>4. Pleated skirts</td>\n",
       "    </tr>\n",
       "    <tr>\n",
       "      <th>4</th>\n",
       "      <td>5. Pearlcore</td>\n",
       "    </tr>\n",
       "    <tr>\n",
       "      <th>5</th>\n",
       "      <td>6. Statement cut-outs</td>\n",
       "    </tr>\n",
       "    <tr>\n",
       "      <th>6</th>\n",
       "      <td>7. Dopamine dressing</td>\n",
       "    </tr>\n",
       "  </tbody>\n",
       "</table>\n",
       "</div>"
      ],
      "text/plain": [
       "                                   0\n",
       "0            1. Preppy sweater vests\n",
       "1                  2. Denim-on-denim\n",
       "2  3. Knitted and crocheted textures\n",
       "3                  4. Pleated skirts\n",
       "4                       5. Pearlcore\n",
       "5              6. Statement cut-outs\n",
       "6               7. Dopamine dressing"
      ]
     },
     "execution_count": 9,
     "metadata": {},
     "output_type": "execute_result"
    }
   ],
   "source": [
    "df.to_csv('cloths1.csv', index=False)\n",
    "df_saved_file = pd.read_csv('cloths1.csv')\n",
    "df_saved_file"
   ]
  }
 ],
 "metadata": {
  "kernelspec": {
   "display_name": "Python 3.9.12 ('base')",
   "language": "python",
   "name": "python3"
  },
  "language_info": {
   "codemirror_mode": {
    "name": "ipython",
    "version": 3
   },
   "file_extension": ".py",
   "mimetype": "text/x-python",
   "name": "python",
   "nbconvert_exporter": "python",
   "pygments_lexer": "ipython3",
   "version": "3.9.12"
  },
  "orig_nbformat": 4,
  "vscode": {
   "interpreter": {
    "hash": "193dfa55f6ecdd2be137d37d4dfe692d77ea809bd5331a3532ddda4344fea5d6"
   }
  }
 },
 "nbformat": 4,
 "nbformat_minor": 2
}
