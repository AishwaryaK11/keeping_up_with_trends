{
 "cells": [
  {
   "cell_type": "code",
   "execution_count": 8,
   "metadata": {},
   "outputs": [],
   "source": [
    "import requests\n",
    "from bs4 import BeautifulSoup\n",
    "import pandas as pd\n",
    "import re\n",
    "\n",
    "def get_topics_page():\n",
    "    # TODO - add comments\n",
    "    topics_url = 'https://www.whowhatwear.com/accessories-trends-2022/slide2'\n",
    "    response = requests.get(topics_url)\n",
    "    if response.status_code != 200:\n",
    "        raise Exception('Failed to load page {}'.format(topic_url))\n",
    "    doc = BeautifulSoup(response.text, 'html.parser')\n",
    "    return doc"
   ]
  },
  {
   "cell_type": "code",
   "execution_count": 9,
   "metadata": {},
   "outputs": [],
   "source": [
    "doc = get_topics_page()"
   ]
  },
  {
   "cell_type": "code",
   "execution_count": 10,
   "metadata": {},
   "outputs": [
    {
     "data": {
      "text/plain": [
       "[<h3 class=\"h3 h3--interstitial\"><p>HANNAH ALMASSI, EDITOR IN CHIEF</p></h3>,\n",
       " <h3 class=\"h3 h3--interstitial\"><p>1. CHAIN BELTS</p></h3>,\n",
       " <h3 class=\"h3 h3--interstitial\"><p>2. PLATFORMS</p></h3>,\n",
       " <h3 class=\"h3 h3--interstitial\"><p>JOY MONTGOMERY, SHOPPING EDITOR</p></h3>,\n",
       " <h3 class=\"h3 h3--interstitial\"><p>3. CROSSBODY BAGS</p></h3>,\n",
       " <h3 class=\"h3 h3--interstitial\"><p>4. LOAFERS</p></h3>,\n",
       " <h3 class=\"h3 h3--interstitial\"><p>REMI AFOLABI, VIDEO CONTENT CREATOR</p></h3>,\n",
       " <h3 class=\"h3 h3--interstitial\"><p>5. SPORTY SUNGLASSES</p></h3>,\n",
       " <h3 class=\"h3 h3--interstitial\"><p>6. BIG TOTE BAGS</p></h3>,\n",
       " <h3 class=\"h3 h3--interstitial\"><p>MAXINE EGGENBERGER, ACTING ASSISTANT EDITOR</p></h3>,\n",
       " <h3 class=\"h3 h3--interstitial\"><p>7. CHOKER NECKLACES</p></h3>,\n",
       " <h3 class=\"h3 h3--interstitial\"><p>8.Â SQUARE SCARVES</p></h3>,\n",
       " <h3 class=\"h3 h3--interstitial\"><p>EMMA SPEDDING, EDITIOR</p></h3>,\n",
       " <h3 class=\"h3 h3--interstitial\"><p>9. Mary Janes</p></h3>,\n",
       " <h3 class=\"h3 h3--interstitial\"><p>10. STATEMENT GOLD EARRINGS</p></h3>,\n",
       " <h3 class=\"h3 h3--interstitial\"><p>JOY EJARIA, SOCIAL MEDIA EDITOR</p></h3>,\n",
       " <h3 class=\"h3 h3--interstitial\"><p>11. CLOGS</p></h3>,\n",
       " <h3 class=\"h3 h3--interstitial\"><p>12. CHUNKY CHAINS</p></h3>,\n",
       " <h3 class=\"h3 h3--interstitial\"><p>EMILY DAWES, AFFILIATE EDITOR</p></h3>,\n",
       " <h3 class=\"h3 h3--interstitial\"><p>13. BASEBALL CAPS</p></h3>,\n",
       " <h3 class=\"h3 h3--interstitial\"><p>14. SLINGBACKS</p></h3>]"
      ]
     },
     "execution_count": 10,
     "metadata": {},
     "output_type": "execute_result"
    }
   ],
   "source": [
    "a='h3 h3--interstitial'\n",
    "aas=doc.find_all('h3',{'class': a})\n",
    "#ad = aas.find('h2')\n",
    "aas"
   ]
  },
  {
   "cell_type": "code",
   "execution_count": 5,
   "metadata": {},
   "outputs": [
    {
     "name": "stdout",
     "output_type": "stream",
     "text": [
      "HANNAH ALMASSI, EDITOR IN CHIEF\n",
      "1. CHAIN BELTS\n",
      "2. PLATFORMS\n",
      "JOY MONTGOMERY, SHOPPING EDITOR\n",
      "3. CROSSBODY BAGS\n",
      "4. LOAFERS\n",
      "REMI AFOLABI, VIDEO CONTENT CREATOR\n",
      "5. SPORTY SUNGLASSES\n",
      "6. BIG TOTE BAGS\n",
      "MAXINE EGGENBERGER, ACTING ASSISTANT EDITOR\n",
      "7. CHOKER NECKLACES\n",
      "8.Â SQUARE SCARVES\n",
      "EMMA SPEDDING, EDITIOR\n",
      "9. Mary Janes\n",
      "10. STATEMENT GOLD EARRINGS\n",
      "JOY EJARIA, SOCIAL MEDIA EDITOR\n",
      "11. CLOGS\n",
      "12. CHUNKY CHAINS\n",
      "EMILY DAWES, AFFILIATE EDITOR\n",
      "13. BASEBALL CAPS\n",
      "14. SLINGBACKS\n"
     ]
    }
   ],
   "source": [
    "lst=[]\n",
    "for item in aas:\n",
    "    h2=', '.join([x.get_text() for x in item.find_all('p')])\n",
    "    print(h2)\n",
    "    lst.append(h2)\n",
    "df = pd.DataFrame(lst)\n"
   ]
  },
  {
   "cell_type": "code",
   "execution_count": 11,
   "metadata": {},
   "outputs": [
    {
     "name": "stdout",
     "output_type": "stream",
     "text": [
      "['1. CHAIN BELTS', '2. PLATFORMS', '3. CROSSBODY BAGS', '4. LOAFERS', '5. SPORTY SUNGLASSES', '6. BIG TOTE BAGS', '7. CHOKER NECKLACES', '8.Â\\xa0SQUARE SCARVES', '9. Mary Janes', '10. STATEMENT GOLD EARRINGS', '11. CLOGS', '12. CHUNKY CHAINS', '13. BASEBALL CAPS', '14. SLINGBACKS']\n"
     ]
    }
   ],
   "source": [
    "\n",
    "str1 = \".\"\n",
    "\n",
    "res = [string for string in lst if str1 in string]\n",
    "\n",
    "print(res)"
   ]
  },
  {
   "cell_type": "code",
   "execution_count": 34,
   "metadata": {},
   "outputs": [
    {
     "data": {
      "text/html": [
       "<div>\n",
       "<style scoped>\n",
       "    .dataframe tbody tr th:only-of-type {\n",
       "        vertical-align: middle;\n",
       "    }\n",
       "\n",
       "    .dataframe tbody tr th {\n",
       "        vertical-align: top;\n",
       "    }\n",
       "\n",
       "    .dataframe thead th {\n",
       "        text-align: right;\n",
       "    }\n",
       "</style>\n",
       "<table border=\"1\" class=\"dataframe\">\n",
       "  <thead>\n",
       "    <tr style=\"text-align: right;\">\n",
       "      <th></th>\n",
       "      <th>0</th>\n",
       "    </tr>\n",
       "  </thead>\n",
       "  <tbody>\n",
       "    <tr>\n",
       "      <th>0</th>\n",
       "      <td>HANNAH ALMASSI, EDITOR IN CHIEF</td>\n",
       "    </tr>\n",
       "    <tr>\n",
       "      <th>1</th>\n",
       "      <td>1. CHAIN BELTS</td>\n",
       "    </tr>\n",
       "    <tr>\n",
       "      <th>2</th>\n",
       "      <td>2. PLATFORMS</td>\n",
       "    </tr>\n",
       "    <tr>\n",
       "      <th>3</th>\n",
       "      <td>JOY MONTGOMERY, SHOPPING EDITOR</td>\n",
       "    </tr>\n",
       "    <tr>\n",
       "      <th>4</th>\n",
       "      <td>3. CROSSBODY BAGS</td>\n",
       "    </tr>\n",
       "    <tr>\n",
       "      <th>5</th>\n",
       "      <td>4. LOAFERS</td>\n",
       "    </tr>\n",
       "    <tr>\n",
       "      <th>6</th>\n",
       "      <td>REMI AFOLABI, VIDEO CONTENT CREATOR</td>\n",
       "    </tr>\n",
       "    <tr>\n",
       "      <th>7</th>\n",
       "      <td>5. SPORTY SUNGLASSES</td>\n",
       "    </tr>\n",
       "    <tr>\n",
       "      <th>8</th>\n",
       "      <td>6. BIG TOTE BAGS</td>\n",
       "    </tr>\n",
       "    <tr>\n",
       "      <th>9</th>\n",
       "      <td>MAXINE EGGENBERGER, ACTING ASSISTANT EDITOR</td>\n",
       "    </tr>\n",
       "    <tr>\n",
       "      <th>10</th>\n",
       "      <td>7. CHOKER NECKLACES</td>\n",
       "    </tr>\n",
       "    <tr>\n",
       "      <th>11</th>\n",
       "      <td>8.Â SQUARE SCARVES</td>\n",
       "    </tr>\n",
       "    <tr>\n",
       "      <th>12</th>\n",
       "      <td>EMMA SPEDDING, EDITIOR</td>\n",
       "    </tr>\n",
       "    <tr>\n",
       "      <th>13</th>\n",
       "      <td>9. Mary Janes</td>\n",
       "    </tr>\n",
       "    <tr>\n",
       "      <th>14</th>\n",
       "      <td>10. STATEMENT GOLD EARRINGS</td>\n",
       "    </tr>\n",
       "    <tr>\n",
       "      <th>15</th>\n",
       "      <td>JOY EJARIA, SOCIAL MEDIA EDITOR</td>\n",
       "    </tr>\n",
       "    <tr>\n",
       "      <th>16</th>\n",
       "      <td>11. CLOGS</td>\n",
       "    </tr>\n",
       "    <tr>\n",
       "      <th>17</th>\n",
       "      <td>12. CHUNKY CHAINS</td>\n",
       "    </tr>\n",
       "    <tr>\n",
       "      <th>18</th>\n",
       "      <td>EMILY DAWES, AFFILIATE EDITOR</td>\n",
       "    </tr>\n",
       "    <tr>\n",
       "      <th>19</th>\n",
       "      <td>13. BASEBALL CAPS</td>\n",
       "    </tr>\n",
       "    <tr>\n",
       "      <th>20</th>\n",
       "      <td>14. SLINGBACKS</td>\n",
       "    </tr>\n",
       "  </tbody>\n",
       "</table>\n",
       "</div>"
      ],
      "text/plain": [
       "                                              0\n",
       "0               HANNAH ALMASSI, EDITOR IN CHIEF\n",
       "1                                1. CHAIN BELTS\n",
       "2                                  2. PLATFORMS\n",
       "3               JOY MONTGOMERY, SHOPPING EDITOR\n",
       "4                             3. CROSSBODY BAGS\n",
       "5                                    4. LOAFERS\n",
       "6           REMI AFOLABI, VIDEO CONTENT CREATOR\n",
       "7                          5. SPORTY SUNGLASSES\n",
       "8                              6. BIG TOTE BAGS\n",
       "9   MAXINE EGGENBERGER, ACTING ASSISTANT EDITOR\n",
       "10                          7. CHOKER NECKLACES\n",
       "11                           8.Â SQUARE SCARVES\n",
       "12                       EMMA SPEDDING, EDITIOR\n",
       "13                                9. Mary Janes\n",
       "14                  10. STATEMENT GOLD EARRINGS\n",
       "15              JOY EJARIA, SOCIAL MEDIA EDITOR\n",
       "16                                    11. CLOGS\n",
       "17                            12. CHUNKY CHAINS\n",
       "18                EMILY DAWES, AFFILIATE EDITOR\n",
       "19                            13. BASEBALL CAPS\n",
       "20                               14. SLINGBACKS"
      ]
     },
     "execution_count": 34,
     "metadata": {},
     "output_type": "execute_result"
    }
   ],
   "source": [
    "df.to_csv('accessory.csv', index=False)\n",
    "df_saved_file = pd.read_csv('accessory.csv')\n",
    "df_saved_file"
   ]
  }
 ],
 "metadata": {
  "kernelspec": {
   "display_name": "Python 3.9.12 ('base')",
   "language": "python",
   "name": "python3"
  },
  "language_info": {
   "codemirror_mode": {
    "name": "ipython",
    "version": 3
   },
   "file_extension": ".py",
   "mimetype": "text/x-python",
   "name": "python",
   "nbconvert_exporter": "python",
   "pygments_lexer": "ipython3",
   "version": "3.9.12"
  },
  "orig_nbformat": 4,
  "vscode": {
   "interpreter": {
    "hash": "193dfa55f6ecdd2be137d37d4dfe692d77ea809bd5331a3532ddda4344fea5d6"
   }
  }
 },
 "nbformat": 4,
 "nbformat_minor": 2
}
