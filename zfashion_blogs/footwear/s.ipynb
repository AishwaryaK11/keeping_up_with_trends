{
 "cells": [
  {
   "cell_type": "code",
   "execution_count": 1,
   "metadata": {},
   "outputs": [],
   "source": [
    "import requests\n",
    "from bs4 import BeautifulSoup\n",
    "import pandas as pd\n",
    "import re\n",
    "\n",
    "def get_topics_page():\n",
    "    # TODO - add comments\n",
    "    topics_url = 'https://www.townandcountrymag.com/style/fashion-trends/a38913726/2022-shoe-trends/'\n",
    "    response = requests.get(topics_url)\n",
    "    if response.status_code != 200:\n",
    "        raise Exception('Failed to load page {}'.format(topic_url))\n",
    "    doc = BeautifulSoup(response.text, 'html.parser')\n",
    "    return doc"
   ]
  },
  {
   "cell_type": "code",
   "execution_count": 2,
   "metadata": {},
   "outputs": [],
   "source": [
    "doc = get_topics_page()"
   ]
  },
  {
   "cell_type": "code",
   "execution_count": 3,
   "metadata": {},
   "outputs": [
    {
     "data": {
      "text/plain": [
       "[<h2 class=\"body-h2 css-342xek et3p2gv0\">Lace Up Sandals<br/></h2>,\n",
       " <h2 class=\"body-h2 css-342xek et3p2gv0\">Flashy Pumps</h2>,\n",
       " <h2 class=\"body-h2 css-342xek et3p2gv0\">Fashion Sneakers</h2>,\n",
       " <h2 class=\"body-h2 css-342xek et3p2gv0\">Clogs</h2>,\n",
       " <h2 class=\"body-h2 css-342xek et3p2gv0\">Platforms</h2>,\n",
       " <h2 class=\"body-h2 css-342xek et3p2gv0\">Fisherman Sandals</h2>,\n",
       " <h2 class=\"body-h2 css-342xek et3p2gv0\">Loafers</h2>,\n",
       " <h2 class=\"body-h2 css-342xek et3p2gv0\">Sky High Heels</h2>,\n",
       " <h2 class=\"body-h2 css-342xek et3p2gv0\">Sporty Sandals</h2>]"
      ]
     },
     "execution_count": 3,
     "metadata": {},
     "output_type": "execute_result"
    }
   ],
   "source": [
    "a='body-h2 css-342xek et3p2gv0'\n",
    "aas=doc.find_all('h2',{'class': a})\n",
    "#ad = aas.find('h2')\n",
    "aas"
   ]
  },
  {
   "cell_type": "code",
   "execution_count": null,
   "metadata": {},
   "outputs": [],
   "source": []
  },
  {
   "cell_type": "code",
   "execution_count": 4,
   "metadata": {},
   "outputs": [
    {
     "name": "stdout",
     "output_type": "stream",
     "text": [
      "Lace Up Sandals, \n",
      "Flashy Pumps\n",
      "Fashion Sneakers\n",
      "Clogs\n",
      "Platforms\n",
      "Fisherman Sandals\n",
      "Loafers\n",
      "Sky High Heels\n",
      "Sporty Sandals\n"
     ]
    },
    {
     "data": {
      "text/plain": [
       "['Lace Up Sandals, ',\n",
       " 'Flashy Pumps',\n",
       " 'Fashion Sneakers',\n",
       " 'Clogs',\n",
       " 'Platforms',\n",
       " 'Fisherman Sandals',\n",
       " 'Loafers',\n",
       " 'Sky High Heels',\n",
       " 'Sporty Sandals']"
      ]
     },
     "execution_count": 4,
     "metadata": {},
     "output_type": "execute_result"
    }
   ],
   "source": [
    "lst=[]\n",
    "for item in aas:\n",
    "    h=', '.join([x.get_text() for x in item])\n",
    "    print(h)\n",
    "    lst.append(h)\n",
    "\n",
    "df = pd.DataFrame(lst)\n",
    "lst"
   ]
  },
  {
   "cell_type": "code",
   "execution_count": 5,
   "metadata": {},
   "outputs": [
    {
     "data": {
      "text/html": [
       "<div>\n",
       "<style scoped>\n",
       "    .dataframe tbody tr th:only-of-type {\n",
       "        vertical-align: middle;\n",
       "    }\n",
       "\n",
       "    .dataframe tbody tr th {\n",
       "        vertical-align: top;\n",
       "    }\n",
       "\n",
       "    .dataframe thead th {\n",
       "        text-align: right;\n",
       "    }\n",
       "</style>\n",
       "<table border=\"1\" class=\"dataframe\">\n",
       "  <thead>\n",
       "    <tr style=\"text-align: right;\">\n",
       "      <th></th>\n",
       "      <th>0</th>\n",
       "    </tr>\n",
       "  </thead>\n",
       "  <tbody>\n",
       "    <tr>\n",
       "      <th>0</th>\n",
       "      <td>Lace Up Sandals,</td>\n",
       "    </tr>\n",
       "    <tr>\n",
       "      <th>1</th>\n",
       "      <td>Flashy Pumps</td>\n",
       "    </tr>\n",
       "    <tr>\n",
       "      <th>2</th>\n",
       "      <td>Fashion Sneakers</td>\n",
       "    </tr>\n",
       "    <tr>\n",
       "      <th>3</th>\n",
       "      <td>Clogs</td>\n",
       "    </tr>\n",
       "    <tr>\n",
       "      <th>4</th>\n",
       "      <td>Platforms</td>\n",
       "    </tr>\n",
       "    <tr>\n",
       "      <th>5</th>\n",
       "      <td>Fisherman Sandals</td>\n",
       "    </tr>\n",
       "    <tr>\n",
       "      <th>6</th>\n",
       "      <td>Loafers</td>\n",
       "    </tr>\n",
       "    <tr>\n",
       "      <th>7</th>\n",
       "      <td>Sky High Heels</td>\n",
       "    </tr>\n",
       "    <tr>\n",
       "      <th>8</th>\n",
       "      <td>Sporty Sandals</td>\n",
       "    </tr>\n",
       "  </tbody>\n",
       "</table>\n",
       "</div>"
      ],
      "text/plain": [
       "                   0\n",
       "0  Lace Up Sandals, \n",
       "1       Flashy Pumps\n",
       "2   Fashion Sneakers\n",
       "3              Clogs\n",
       "4          Platforms\n",
       "5  Fisherman Sandals\n",
       "6            Loafers\n",
       "7     Sky High Heels\n",
       "8     Sporty Sandals"
      ]
     },
     "execution_count": 5,
     "metadata": {},
     "output_type": "execute_result"
    }
   ],
   "source": [
    "df.to_csv('my_new_file.csv', index=False)\n",
    "df_saved_file = pd.read_csv('my_new_file.csv')\n",
    "df_saved_file"
   ]
  }
 ],
 "metadata": {
  "kernelspec": {
   "display_name": "Python 3.9.12 ('base')",
   "language": "python",
   "name": "python3"
  },
  "language_info": {
   "codemirror_mode": {
    "name": "ipython",
    "version": 3
   },
   "file_extension": ".py",
   "mimetype": "text/x-python",
   "name": "python",
   "nbconvert_exporter": "python",
   "pygments_lexer": "ipython3",
   "version": "3.9.12"
  },
  "orig_nbformat": 4,
  "vscode": {
   "interpreter": {
    "hash": "193dfa55f6ecdd2be137d37d4dfe692d77ea809bd5331a3532ddda4344fea5d6"
   }
  }
 },
 "nbformat": 4,
 "nbformat_minor": 2
}
