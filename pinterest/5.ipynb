{
 "cells": [
  {
   "cell_type": "code",
   "execution_count": 7,
   "metadata": {},
   "outputs": [
    {
     "name": "stdout",
     "output_type": "stream",
     "text": [
      "['Short Outfits', 'Casual Summer Dresses', 'Flippy Skirts', 'Cooler Style', 'Pretty Outfits', 'Simple Outfits', 'Cute Outfits', 'Dress Skirt', 'Italy Outfits', 'Spring Summer Trends', 'Summer Fashion Trends', 'Planners', 'Ladies Fashion', 'Spring Outfits', 'Vestidos Vintage', 'White Summer Outfits', 'Trendy Summer Outfits', 'Indoor Paint Colors', 'Home Room Design', 'Pantone Paint', 'Trend Council', 'Pantone Verde', 'Tweed', 'Color Shapes', '50 Fashion', 'Casual Outfits', 'Summer Dresses For Women', 'Linen Dresses', 'Hipster Grunge', 'Pretty Dresses', 'Womens Fashion', 'Look Fashion', 'Wrap Dress', 'Paris Outfits', 'Spring Fashion Trends', 'Spring Summer Fashion', 'Lifestyle Trends', 'Petite Outfits', 'Cotton Summer Dresses', 'Vestidos Sexy', 'All White Outfit', 'Vintage Summer Outfits', 'Room Paint Colors', 'Home Interior Design', 'Pantone Swatches', 'Parfait', 'Moda Boho', 'Trend Fabrics', 'Color Theory', 'Summer Prints', 'Fashion Outfits', 'Summer Clothes', '1950s Fashion', 'Mia 3', 'Stylish Outfits', 'Sustainable Clothing', 'Capsule Wardrobe Essentials', 'Dress Up', 'Mode Outfits', \"Women's Summer Fashion\", 'News Fashion', 'Change Is Good', 'Fashion Trends', 'Pretty Summer Dresses', 'Vintage Dresses', 'Neutral Outfit', 'Summer Vacation Outfits', 'Paint Colors For Home', 'Living Room Designs', 'Color Swatches', 'Mise En Page Portfolio Mode', 'Cozy Fashion', 'Pantone Color', 'Crop Top Elegante', 'Summer Outfits', 'Couture', 'Mode Inspiration', 'Casual Party Dresses', 'Sustainable Fashion', 'Dress With Sneakers', 'Wrap Around Dress', 'Office Outfits', 'Pantone', 'Fashion Design', 'Color Stories', 'Spring Dresses', 'White Dress Summer', 'Dress Plus Size', 'White Outfits For Women', 'Cute Spring Outfits', 'Wall Colors', 'Home Living Room', 'Pantone Gold', 'Blue And Green', 'Sustainable Fabrics', 'Accent Colors', 'Linen Pants Outfit', 'Sage Green Dress', 'Dress Brands', 'Cute Casual Outfits', 'Mode Ootd', 'Minimal Fashion', 'Summer Wardrobe', 'Lookbook', 'France Outfits', 'Fashion Forecasting', 'Fashion Weeks', 'Coloring For Kids', 'Summer Skirts', 'Moda Fashion', 'Summer Fashion Outfits', 'Cute Beach Outfits', 'House Colors', 'Living Room Decor', 'Grey Palette', 'Fashion Fabric', 'Color Inspiration', 'Linen Shorts', 'Sundresses Women', 'Dress Patterns', 'Cute Dress Outfits', 'Looks Style', 'Muslin Dress', 'Club Outfits', 'Fashion Themes', 'Fashion Colours', 'Spring Colors', 'Mode Simple', \"Women's Fashion Dresses\", 'Summer Casual Outfits For Women', 'Summer Holiday Outfits', 'Colours', 'Bedroom Decor', 'Colour Pallette', 'Linen Trousers', 'Sabo Skirt', 'Casual', 'Dress Clothes', 'Classy Outfits', 'Classy Summer Outfits', 'Color Trends', 'Colorful Fashion', 'Vestido Casual', 'Maxi Dresses', 'White Jeans Summer', 'Speing Outfits', 'House Color Palettes', 'Living Room Paint', 'Colour Schemes', 'Crop Top Designs', 'Gingham Dress', 'Fashion Clothes', 'Casual Dresses', 'Designer Dresses', 'Europe Outfits Summer', 'Design Trends', 'Long Dresses', 'Summer Wear For Women', 'Midi Skirt Outfit Casual', 'Room Color Schemes', 'Pantone Color Chart', 'Wide leg Jeans']\n"
     ]
    }
   ],
   "source": [
    "from autoscraper import AutoScraper\n",
    "\n",
    "url = 'https://www.pinterest.com/christa0494/spring-summer-2022/'\n",
    "\n",
    "# We can add one or multiple candidates here.\n",
    "# You can also put urls here to retrieve urls.\n",
    "wanted_list = [\"Flippy Skirts\",\"Linen Dresses\",\"1950s Fashion\",\"Couture\",\"Dress Brands\",\"Dress Patterns\",\"Casual\",\"Fashion Clothes\"]\n",
    "\n",
    "scraper = AutoScraper()\n",
    "result = scraper.build(url, wanted_list)\n",
    "result.append('Wide leg Jeans')\n",
    "print(result)\n"
   ]
  },
  {
   "cell_type": "code",
   "execution_count": null,
   "metadata": {},
   "outputs": [],
   "source": []
  },
  {
   "cell_type": "code",
   "execution_count": 8,
   "metadata": {},
   "outputs": [],
   "source": [
    "import pandas as pd"
   ]
  },
  {
   "cell_type": "code",
   "execution_count": 9,
   "metadata": {},
   "outputs": [
    {
     "name": "stdout",
     "output_type": "stream",
     "text": [
      "                            0\n",
      "0               Short Outfits\n",
      "1       Casual Summer Dresses\n",
      "2               Flippy Skirts\n",
      "3                Cooler Style\n",
      "4              Pretty Outfits\n",
      "..                        ...\n",
      "157     Summer Wear For Women\n",
      "158  Midi Skirt Outfit Casual\n",
      "159        Room Color Schemes\n",
      "160       Pantone Color Chart\n",
      "161            Wide leg Jeans\n",
      "\n",
      "[162 rows x 1 columns]\n"
     ]
    }
   ],
   "source": [
    "df = pd.DataFrame(result)\n",
    "print(df)"
   ]
  },
  {
   "cell_type": "code",
   "execution_count": 6,
   "metadata": {},
   "outputs": [],
   "source": [
    "df.to_csv('5.csv',index=False) "
   ]
  },
  {
   "cell_type": "code",
   "execution_count": null,
   "metadata": {},
   "outputs": [],
   "source": []
  }
 ],
 "metadata": {
  "kernelspec": {
   "display_name": "Python 3.9.12 ('base')",
   "language": "python",
   "name": "python3"
  },
  "language_info": {
   "codemirror_mode": {
    "name": "ipython",
    "version": 3
   },
   "file_extension": ".py",
   "mimetype": "text/x-python",
   "name": "python",
   "nbconvert_exporter": "python",
   "pygments_lexer": "ipython3",
   "version": "3.9.12"
  },
  "orig_nbformat": 4,
  "vscode": {
   "interpreter": {
    "hash": "193dfa55f6ecdd2be137d37d4dfe692d77ea809bd5331a3532ddda4344fea5d6"
   }
  }
 },
 "nbformat": 4,
 "nbformat_minor": 2
}
