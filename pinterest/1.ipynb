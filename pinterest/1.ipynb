{
 "cells": [
  {
   "cell_type": "code",
   "execution_count": 7,
   "metadata": {},
   "outputs": [
    {
     "name": "stdout",
     "output_type": "stream",
     "text": [
      "['Casual Heels', 'Light Blue Shoes', 'Asos', 'Leather Over The Knee Boots', 'Ankle Boots', 'Buckle Ankle Boots', 'Dr Shoes', 'Winter Sneakers', 'Buy 1 Get 1', 'Moda Streetwear', 'Crop Top And Leggings', 'Black Romper', 'Running Everyday', 'Trouser Co Ord', 'Cute Fashion', 'Yoga Fitness', 'Vegan Leather', 'High Heel Boots', 'Ugg Boots', 'High Ankle Boots', 'Chunky Heel Ankle Boots', 'Mid Calf Boots', 'Fur Heels', 'Multi Coloured Shorts', 'Casual Sneakers', 'Purple Shoes', 'Chunky Boots', 'Womens Windbreaker', 'Ladies Long Boots', 'Black Ankle Boots', 'Hype Shoes', 'Sneakers Fashion', 'High Neck Dress', 'Style Streetwear', 'Skinny Joggers', 'Body Negro', 'Pantalon Large', \"What's Your Style\", 'Fashion Looks', 'Yoga Gym', 'Combat Boots', 'Slipper Socks', 'Uggs', 'Ankle Highs', 'Winter Shoes', 'Cow Leather', 'Timberland Boots', 'Georgia', 'High Top Sneakers', 'Green Shoes', 'Chunky Heels', 'Beige Shoes', 'Bota Over', 'High Boots', 'Shoes Heels Boots', 'Casual Shoes', 'Names', 'Streetwear Fashion', 'Sports Leggings', 'Top Casual', 'Fitness', 'Long Sleeve Turtleneck', 'Casual Fall Outfits', 'Active Wear For Women', 'Slip On', 'Slippers', 'Leather', 'Waterproof Coat', 'Army Shoes', 'Black Boots', 'Leather Boots', 'Chic Clothing', \"Women's Casual\", 'Womens Fashion Sneakers', 'White Boots', 'Thigh High Boots', 'Martin Boots', 'High Heels', 'Heeled Boots', 'Platform Sneakers', 'Sweaters', 'Womens Bodysuit', 'Long Sleeve Crop Top', 'Oxford', 'Athleisure Outfits', 'Pull On Pants', 'Cute Outfits', 'Lounge Wear', 'How To Wear', 'New Outfits', 'Snow Boot', 'Chelsea Boots', 'Vegan Boots', 'Rubber Rain Boots', 'Shoes', 'Design Shop', 'Sneakers Women', 'Fashion Socks', 'Boots For Sale', 'Running Shoes For Men', 'The Costumer', 'Shoes Sneakers', 'Beige Sneakers', 'Color', 'Black Bodysuit', 'Cotton Style', 'Body Top', 'Cute Crop Tops', 'Classic Outfits', 'Aesthetic Fashion', 'Sportswear', 'Exterior', 'Stylish Outfits', 'Style Fashion', 'Cow', 'Platform Boots', 'Calves', 'Black', 'Shoulder Sleeve']\n"
     ]
    }
   ],
   "source": [
    "from autoscraper import AutoScraper\n",
    "\n",
    "url = 'https://www.pinterest.com/hourecrim/fashion-styles-and-names/'\n",
    "\n",
    "# We can add one or multiple candidates here.\n",
    "# You can also put urls here to retrieve urls.\n",
    "wanted_list = [\"Casual Heels\",\"Casual Sneakers\",\"High Top Sneakers\",\"Women's Casual\",\"Sneakers Women\"]\n",
    "\n",
    "scraper = AutoScraper()\n",
    "result = scraper.build(url, wanted_list)\n",
    "print(result)"
   ]
  },
  {
   "cell_type": "code",
   "execution_count": 8,
   "metadata": {},
   "outputs": [],
   "source": [
    "import pandas as pd"
   ]
  },
  {
   "cell_type": "code",
   "execution_count": 9,
   "metadata": {},
   "outputs": [
    {
     "name": "stdout",
     "output_type": "stream",
     "text": [
      "                               0\n",
      "0                   Casual Heels\n",
      "1               Light Blue Shoes\n",
      "2                           Asos\n",
      "3    Leather Over The Knee Boots\n",
      "4                    Ankle Boots\n",
      "..                           ...\n",
      "114                          Cow\n",
      "115               Platform Boots\n",
      "116                       Calves\n",
      "117                        Black\n",
      "118              Shoulder Sleeve\n",
      "\n",
      "[119 rows x 1 columns]\n"
     ]
    }
   ],
   "source": [
    "df = pd.DataFrame(result)\n",
    "print(df)"
   ]
  },
  {
   "cell_type": "code",
   "execution_count": 10,
   "metadata": {},
   "outputs": [],
   "source": [
    "df.to_csv('1.csv',index=False) "
   ]
  },
  {
   "cell_type": "code",
   "execution_count": null,
   "metadata": {},
   "outputs": [],
   "source": []
  },
  {
   "cell_type": "code",
   "execution_count": null,
   "metadata": {},
   "outputs": [],
   "source": []
  },
  {
   "cell_type": "code",
   "execution_count": 3,
   "metadata": {},
   "outputs": [
    {
     "data": {
      "text/plain": [
       "{'rule_9mo5': ['Casual Heels',\n",
       "  'Light Blue Shoes',\n",
       "  'Asos',\n",
       "  'Leather Over The Knee Boots',\n",
       "  'Ankle Boots',\n",
       "  'Buckle Ankle Boots',\n",
       "  'Dr Shoes',\n",
       "  'Winter Sneakers',\n",
       "  'Buy 1 Get 1',\n",
       "  'Moda Streetwear',\n",
       "  'Crop Top And Leggings',\n",
       "  'Black Romper',\n",
       "  'Running Everyday',\n",
       "  'Trouser Co Ord',\n",
       "  'Cute Fashion',\n",
       "  'Yoga Fitness',\n",
       "  'Vegan Leather',\n",
       "  'High Heel Boots',\n",
       "  'Ugg Boots',\n",
       "  'High Ankle Boots',\n",
       "  'Chunky Heel Ankle Boots',\n",
       "  'Mid Calf Boots',\n",
       "  'Fur Heels',\n",
       "  'Multi Coloured Shorts'],\n",
       " 'rule_gov7': ['Casual Sneakers',\n",
       "  'Purple Shoes',\n",
       "  'Chunky Boots',\n",
       "  'Womens Windbreaker',\n",
       "  'Ladies Long Boots',\n",
       "  'Black Ankle Boots',\n",
       "  'Hype Shoes',\n",
       "  'Sneakers Fashion',\n",
       "  'High Neck Dress',\n",
       "  'Style Streetwear',\n",
       "  'Skinny Joggers',\n",
       "  'Body Negro',\n",
       "  'Pantalon Large',\n",
       "  \"What's Your Style\",\n",
       "  'Fashion Looks',\n",
       "  'Yoga Gym',\n",
       "  'Combat Boots',\n",
       "  'Slipper Socks',\n",
       "  'Uggs',\n",
       "  'Ankle Highs',\n",
       "  'Winter Shoes',\n",
       "  'Cow Leather',\n",
       "  'Timberland Boots',\n",
       "  'Georgia']}"
      ]
     },
     "execution_count": 3,
     "metadata": {},
     "output_type": "execute_result"
    }
   ],
   "source": [
    "scraper.get_result_similar(url, grouped=True)"
   ]
  },
  {
   "cell_type": "code",
   "execution_count": 14,
   "metadata": {},
   "outputs": [],
   "source": [
    "scraper.set_rule_aliases({'rule_vkad':'Title','rule_h97k':'Price'})\n",
    "scraper.keep_rules(['rule_vkad','rule_h97k'])\n",
    "scraper.save('zaraa-search')"
   ]
  },
  {
   "cell_type": "code",
   "execution_count": 16,
   "metadata": {},
   "outputs": [],
   "source": [
    "import pandas as pd"
   ]
  }
 ],
 "metadata": {
  "kernelspec": {
   "display_name": "Python 3.9.12 ('base')",
   "language": "python",
   "name": "python3"
  },
  "language_info": {
   "codemirror_mode": {
    "name": "ipython",
    "version": 3
   },
   "file_extension": ".py",
   "mimetype": "text/x-python",
   "name": "python",
   "nbconvert_exporter": "python",
   "pygments_lexer": "ipython3",
   "version": "3.9.12"
  },
  "orig_nbformat": 4,
  "vscode": {
   "interpreter": {
    "hash": "193dfa55f6ecdd2be137d37d4dfe692d77ea809bd5331a3532ddda4344fea5d6"
   }
  }
 },
 "nbformat": 4,
 "nbformat_minor": 2
}
