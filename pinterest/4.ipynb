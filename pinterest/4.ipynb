{
 "cells": [
  {
   "cell_type": "code",
   "execution_count": 1,
   "metadata": {},
   "outputs": [
    {
     "name": "stdout",
     "output_type": "stream",
     "text": [
      "['Flare Jeans Outfit', 'Fashion Guys', 'Maxi Dress With Sleeves', 'College Fashion', 'Mode Outfits', 'Work Hairstyles', 'Denim Fashion', 'Tomboy Fashion', 'Simple Outfits', 'Trendy Outfits', 'Summer Girls', 'Looks Chic', 'Trendy Fall Outfits', 'Adrette Outfits', 'Winter Outfits For Teen Girls', 'Tank Bodysuit', 'Best Outfits', 'Popular Outfits', 'Work Fashion', 'French Capsule Wardrobe', 'French Wardrobe Basics', 'Fashion Week 2018', 'Teen Fashion Outfits', 'Glam Dresses', 'Summer Wedding Outfits', 'Jeans Outfit Winter', 'Bad Fashion', 'The Dress', 'College Outfits', 'Casual Outfits', 'Summer Hairstyles', 'New Fashion', 'Fashion Models', 'Pretty Outfits', 'Cute Outfits', 'Pretty People', 'Looks Style', 'Retro Outfits', 'Preppy Outfits', 'Preppy Winter Outfits', 'Long Sleeve Bodysuit', 'Petite Outfits', 'Chic Outfits', 'Fashion Looks', 'Capsule Wardrobe Essentials', 'French Models', 'Big Fashion', 'Monochrome Outfit', 'Satin Dresses', 'Wedding Dresses', 'Cute Winter Outfits', 'Retro Fashion', 'Empire', 'Casual Wear', 'Womens Fashion', 'Trendy Hairstyles', 'Fashion Tips', 'Mode Streetwear', 'Winter Fashion Outfits', 'Gym Outfits', 'Beautiful People', 'Mode Zara', 'Cinema Outfit Casual', 'Classic Outfits', 'Winter Date Night Outfits', 'Body Suit Outfits', 'Trench Coat Outfit', 'Winter Mode', 'Style Essentials', 'Oversized Blazer', 'Fashion Pants', 'Copenhagen Fashion Week', 'Dress Outfits', 'Outfit Summer', 'Cute Casual Outfits', 'Trendy Fashion', 'Picnic Dress', 'Modern Outfits', 'Fall Winter Outfits', 'Hairdos', 'Fashion Trends', 'Streetwear Fashion', 'Look Fashion', 'Cute Workout Outfits', 'Photographie Indie', 'Mode Pop', 'Cute Easy Outfits For School', 'Girly Outfits', 'Casual Winter', 'Skirt Outfits', 'Coat Dress', 'French Girl Style', 'Wrap Dress Floral', 'Milan Fashion', 'Fashion Advice', 'Midi Dress Outfit', 'Wedding Guest Outfits']\n"
     ]
    }
   ],
   "source": [
    "from autoscraper import AutoScraper\n",
    "\n",
    "url = 'https://www.pinterest.com/studentrate/outfit-ideas/'\n",
    "\n",
    "# We can add one or multiple candidates here.\n",
    "# You can also put urls here to retrieve urls.\n",
    "wanted_list = [\"Flare Jeans Outfit\",\"Jeans Outfit Winter\",\"Cute Winter Outfits\",\"Cute Casual Outfits\"]\n",
    "\n",
    "scraper = AutoScraper()\n",
    "result = scraper.build(url, wanted_list)\n",
    "print(result)"
   ]
  },
  {
   "cell_type": "code",
   "execution_count": 2,
   "metadata": {},
   "outputs": [],
   "source": [
    "import pandas as pd"
   ]
  },
  {
   "cell_type": "code",
   "execution_count": 3,
   "metadata": {},
   "outputs": [
    {
     "name": "stdout",
     "output_type": "stream",
     "text": [
      "                          0\n",
      "0        Flare Jeans Outfit\n",
      "1              Fashion Guys\n",
      "2   Maxi Dress With Sleeves\n",
      "3           College Fashion\n",
      "4              Mode Outfits\n",
      "..                      ...\n",
      "92        Wrap Dress Floral\n",
      "93            Milan Fashion\n",
      "94           Fashion Advice\n",
      "95        Midi Dress Outfit\n",
      "96    Wedding Guest Outfits\n",
      "\n",
      "[97 rows x 1 columns]\n"
     ]
    }
   ],
   "source": [
    "df = pd.DataFrame(result)\n",
    "print(df)"
   ]
  },
  {
   "cell_type": "code",
   "execution_count": 4,
   "metadata": {},
   "outputs": [],
   "source": [
    "df.to_csv('4.csv',index=False) "
   ]
  },
  {
   "cell_type": "code",
   "execution_count": null,
   "metadata": {},
   "outputs": [],
   "source": []
  },
  {
   "cell_type": "code",
   "execution_count": null,
   "metadata": {},
   "outputs": [],
   "source": []
  }
 ],
 "metadata": {
  "kernelspec": {
   "display_name": "Python 3.9.12 ('base')",
   "language": "python",
   "name": "python3"
  },
  "language_info": {
   "codemirror_mode": {
    "name": "ipython",
    "version": 3
   },
   "file_extension": ".py",
   "mimetype": "text/x-python",
   "name": "python",
   "nbconvert_exporter": "python",
   "pygments_lexer": "ipython3",
   "version": "3.9.12"
  },
  "orig_nbformat": 4,
  "vscode": {
   "interpreter": {
    "hash": "193dfa55f6ecdd2be137d37d4dfe692d77ea809bd5331a3532ddda4344fea5d6"
   }
  }
 },
 "nbformat": 4,
 "nbformat_minor": 2
}
