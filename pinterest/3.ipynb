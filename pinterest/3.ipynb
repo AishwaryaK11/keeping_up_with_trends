{
 "cells": [
  {
   "cell_type": "code",
   "execution_count": 3,
   "metadata": {},
   "outputs": [
    {
     "name": "stdout",
     "output_type": "stream",
     "text": [
      "['Lingerie', 'Surf Shirt', 'Hiking Jacket', 'Shirting Fabric', 'Anthropologie', 'Cotton Skirt', 'Look Fashion', 'New Balance Sneakers', 'Hatch Maternity', 'Cute Dresses For Teens', 'Midi Length Skirts', 'Chambray Fabric', 'Peacock Print', 'White Dress', 'Maternity Jumpsuit', 'Yellow Aesthetic Pastel', 'Ruffle Trim']\n"
     ]
    }
   ],
   "source": [
    "from autoscraper import AutoScraper\n",
    "\n",
    "url = 'https://www.pinterest.com/ohjoy/clothing/'\n",
    "\n",
    "# We can add one or multiple candidates here.\n",
    "# You can also put urls here to retrieve urls.\n",
    "wanted_list = [\"Surf Shirt\"]\n",
    "\n",
    "scraper = AutoScraper()\n",
    "result = scraper.build(url, wanted_list)\n",
    "print(result)"
   ]
  },
  {
   "cell_type": "code",
   "execution_count": 4,
   "metadata": {},
   "outputs": [],
   "source": [
    "import pandas as pd"
   ]
  },
  {
   "cell_type": "code",
   "execution_count": 5,
   "metadata": {},
   "outputs": [
    {
     "name": "stdout",
     "output_type": "stream",
     "text": [
      "                          0\n",
      "0                  Lingerie\n",
      "1                Surf Shirt\n",
      "2             Hiking Jacket\n",
      "3           Shirting Fabric\n",
      "4             Anthropologie\n",
      "5              Cotton Skirt\n",
      "6              Look Fashion\n",
      "7      New Balance Sneakers\n",
      "8           Hatch Maternity\n",
      "9    Cute Dresses For Teens\n",
      "10       Midi Length Skirts\n",
      "11          Chambray Fabric\n",
      "12            Peacock Print\n",
      "13              White Dress\n",
      "14       Maternity Jumpsuit\n",
      "15  Yellow Aesthetic Pastel\n",
      "16              Ruffle Trim\n"
     ]
    }
   ],
   "source": [
    "df = pd.DataFrame(result)\n",
    "print(df)"
   ]
  },
  {
   "cell_type": "code",
   "execution_count": 6,
   "metadata": {},
   "outputs": [],
   "source": [
    "\n",
    "df.to_csv('3.csv',index=False) "
   ]
  },
  {
   "cell_type": "code",
   "execution_count": null,
   "metadata": {},
   "outputs": [],
   "source": []
  },
  {
   "cell_type": "code",
   "execution_count": null,
   "metadata": {},
   "outputs": [],
   "source": []
  }
 ],
 "metadata": {
  "kernelspec": {
   "display_name": "Python 3.9.12 ('base')",
   "language": "python",
   "name": "python3"
  },
  "language_info": {
   "codemirror_mode": {
    "name": "ipython",
    "version": 3
   },
   "file_extension": ".py",
   "mimetype": "text/x-python",
   "name": "python",
   "nbconvert_exporter": "python",
   "pygments_lexer": "ipython3",
   "version": "3.9.12"
  },
  "orig_nbformat": 4,
  "vscode": {
   "interpreter": {
    "hash": "193dfa55f6ecdd2be137d37d4dfe692d77ea809bd5331a3532ddda4344fea5d6"
   }
  }
 },
 "nbformat": 4,
 "nbformat_minor": 2
}
