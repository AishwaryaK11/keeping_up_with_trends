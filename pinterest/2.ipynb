{
 "cells": [
  {
   "cell_type": "code",
   "execution_count": 7,
   "metadata": {},
   "outputs": [
    {
     "name": "stdout",
     "output_type": "stream",
     "text": [
      "['Classy Dress', 'Girls Night Dress', 'Nice Dresses', 'Night Looks', 'Street Style Outfits', 'Fashion Trends', 'Iconic Dresses', 'Strapless Dress Formal', 'Funky Outfits', 'Tennis Skirts', 'Dior Vintage', 'Street Look', 'Baby Blue Colour', 'Kylie Jenner Vestidos', 'Kylie Jenner Change', 'Dress Skirt', 'Chic Outfits', 'Going Out Outfits For Women', 'Nye Outfits', 'Pajamas All Day', 'Cute Store', 'Hipster Outfits', 'Winter Outfits For Teen Girls', 'Classy Outfits', 'Street Style Trends', 'Inexpensive Dresses', 'Looks Street Style', 'Crazy Outfits', 'Gala Dresses', 'Formal Dresses', 'Colourful Outfits', 'Denim Outfit', 'Vintage Bags', 'College Trends', 'Kylie Jenner Met Gala', 'Kendall E Kylie Jenner', 'Trends', 'Girl Outfits', 'Club Outfits For Women', 'Blazer Outfits', 'Going Out Outfits', 'Cool Graphic Tees', 'Grunge Outfits', 'Winter Mode Outfits', 'Cocktail Dress Classy Elegant', 'Street Style Looks', 'Dress Sites', 'Looks Style', 'Look Street Style', 'Meat Dress', '20th Century Fashion', 'Cool Outfits', 'Skirt Fashion', 'Vintage Purses', 'Corset Style Tops', 'Moda Kylie Jenner', 'Kyle Jenner', 'Summer', 'Fashion Ideas', 'Trendy Clothes For Women', 'Velvet Mini Skirt', 'Two Piece Outfit', 'Disney Tees', 'Girl Outfits Tumblr', 'Winter Fashion Outfits', 'Elegant Midi Dresses', 'Simple Dresses', 'Formal Looks', 'Street Style Women', 'Summer Work', 'Sparkly Mini Dress', 'Aesthetic Clothes', 'Spring Fashion', 'Luxury Bags', 'Urban Outfitters', 'Kylie Jenner Fotos', 'Kardashian Family', 'Grey Fashion', 'Cute Outfits', 'Green Satin', 'Summer Looks', 'Casual Wear', 'Edgy Outfits', 'Fall Outfits', 'Date Night Dresses', 'Professional Dresses', 'Two Piece Dress', 'Fashion Outfits', 'Mtv Videos', 'Teen Fashion', 'Vintage Fashion', 'Cute Purses', 'Winter Outfits', 'Looks Kylie Jenner', 'Serena Williams', 'Pretty Outfits', 'Fashion Hats', 'Trendy Colors', 'Suspenders', 'Grunge Fashion', 'Autumn Fashion', 'Night Outfits', 'Edgy Look', 'Party Looks', 'Womens Fashion', 'Mtv Video Music Award', 'Street Style Edgy', 'Mini Skirts', 'Purses And Bags', 'Winter Fashion', 'Estilo Kylie Jenner', 'Rompers Women', '90s Fashion', 'Retro Fashion']\n"
     ]
    }
   ],
   "source": [
    "from autoscraper import AutoScraper\n",
    "\n",
    "url = 'https://www.pinterest.com/studentrate/fashion-trends/'\n",
    "\n",
    "# We can add one or multiple candidates here.\n",
    "# You can also put urls here to retrieve urls.\n",
    "wanted_list = [\"Nice Dresses\",\"Inexpensive Dresses\",\"Dress Sites\",\"Mini Club Dresse\",\"Formal Looks\",\"Two Piece Dress\",\"Party Looks\"]\n",
    "\n",
    "scraper = AutoScraper()\n",
    "result = scraper.build(url, wanted_list)\n",
    "print(result)"
   ]
  },
  {
   "cell_type": "code",
   "execution_count": 8,
   "metadata": {},
   "outputs": [],
   "source": [
    "import pandas as pd"
   ]
  },
  {
   "cell_type": "code",
   "execution_count": 9,
   "metadata": {},
   "outputs": [
    {
     "name": "stdout",
     "output_type": "stream",
     "text": [
      "                        0\n",
      "0            Classy Dress\n",
      "1       Girls Night Dress\n",
      "2            Nice Dresses\n",
      "3             Night Looks\n",
      "4    Street Style Outfits\n",
      "..                    ...\n",
      "109        Winter Fashion\n",
      "110   Estilo Kylie Jenner\n",
      "111         Rompers Women\n",
      "112           90s Fashion\n",
      "113         Retro Fashion\n",
      "\n",
      "[114 rows x 1 columns]\n"
     ]
    }
   ],
   "source": [
    "df = pd.DataFrame(result)\n",
    "print(df)"
   ]
  },
  {
   "cell_type": "code",
   "execution_count": 10,
   "metadata": {},
   "outputs": [],
   "source": [
    "df.to_csv('2.csv',index=False) "
   ]
  },
  {
   "cell_type": "code",
   "execution_count": null,
   "metadata": {},
   "outputs": [],
   "source": []
  },
  {
   "cell_type": "code",
   "execution_count": null,
   "metadata": {},
   "outputs": [],
   "source": []
  },
  {
   "cell_type": "code",
   "execution_count": 3,
   "metadata": {},
   "outputs": [
    {
     "data": {
      "text/plain": [
       "{'rule_9mo5': ['Casual Heels',\n",
       "  'Light Blue Shoes',\n",
       "  'Asos',\n",
       "  'Leather Over The Knee Boots',\n",
       "  'Ankle Boots',\n",
       "  'Buckle Ankle Boots',\n",
       "  'Dr Shoes',\n",
       "  'Winter Sneakers',\n",
       "  'Buy 1 Get 1',\n",
       "  'Moda Streetwear',\n",
       "  'Crop Top And Leggings',\n",
       "  'Black Romper',\n",
       "  'Running Everyday',\n",
       "  'Trouser Co Ord',\n",
       "  'Cute Fashion',\n",
       "  'Yoga Fitness',\n",
       "  'Vegan Leather',\n",
       "  'High Heel Boots',\n",
       "  'Ugg Boots',\n",
       "  'High Ankle Boots',\n",
       "  'Chunky Heel Ankle Boots',\n",
       "  'Mid Calf Boots',\n",
       "  'Fur Heels',\n",
       "  'Multi Coloured Shorts'],\n",
       " 'rule_gov7': ['Casual Sneakers',\n",
       "  'Purple Shoes',\n",
       "  'Chunky Boots',\n",
       "  'Womens Windbreaker',\n",
       "  'Ladies Long Boots',\n",
       "  'Black Ankle Boots',\n",
       "  'Hype Shoes',\n",
       "  'Sneakers Fashion',\n",
       "  'High Neck Dress',\n",
       "  'Style Streetwear',\n",
       "  'Skinny Joggers',\n",
       "  'Body Negro',\n",
       "  'Pantalon Large',\n",
       "  \"What's Your Style\",\n",
       "  'Fashion Looks',\n",
       "  'Yoga Gym',\n",
       "  'Combat Boots',\n",
       "  'Slipper Socks',\n",
       "  'Uggs',\n",
       "  'Ankle Highs',\n",
       "  'Winter Shoes',\n",
       "  'Cow Leather',\n",
       "  'Timberland Boots',\n",
       "  'Georgia']}"
      ]
     },
     "execution_count": 3,
     "metadata": {},
     "output_type": "execute_result"
    }
   ],
   "source": [
    "scraper.get_result_similar(url, grouped=True)"
   ]
  },
  {
   "cell_type": "code",
   "execution_count": 14,
   "metadata": {},
   "outputs": [],
   "source": [
    "scraper.set_rule_aliases({'rule_vkad':'Title','rule_h97k':'Price'})\n",
    "scraper.keep_rules(['rule_vkad','rule_h97k'])\n",
    "scraper.save('zaraa-search')"
   ]
  },
  {
   "cell_type": "code",
   "execution_count": 16,
   "metadata": {},
   "outputs": [],
   "source": [
    "import pandas as pd"
   ]
  }
 ],
 "metadata": {
  "kernelspec": {
   "display_name": "Python 3.9.12 ('base')",
   "language": "python",
   "name": "python3"
  },
  "language_info": {
   "codemirror_mode": {
    "name": "ipython",
    "version": 3
   },
   "file_extension": ".py",
   "mimetype": "text/x-python",
   "name": "python",
   "nbconvert_exporter": "python",
   "pygments_lexer": "ipython3",
   "version": "3.9.12"
  },
  "orig_nbformat": 4,
  "vscode": {
   "interpreter": {
    "hash": "193dfa55f6ecdd2be137d37d4dfe692d77ea809bd5331a3532ddda4344fea5d6"
   }
  }
 },
 "nbformat": 4,
 "nbformat_minor": 2
}
